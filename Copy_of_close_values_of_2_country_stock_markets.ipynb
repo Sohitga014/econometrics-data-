{
  "nbformat": 4,
  "nbformat_minor": 0,
  "metadata": {
    "colab": {
      "provenance": [],
      "mount_file_id": "1Gg4RHaQqsHbGch_CK2tsEX8WYwOeUFwL",
      "authorship_tag": "ABX9TyN/YvhlBal72ZL7dsKtfvfn",
      "include_colab_link": true
    },
    "kernelspec": {
      "name": "python3",
      "display_name": "Python 3"
    },
    "language_info": {
      "name": "python"
    }
  },
  "cells": [
    {
      "cell_type": "markdown",
      "metadata": {
        "id": "view-in-github",
        "colab_type": "text"
      },
      "source": [
        "<a href=\"https://colab.research.google.com/github/Sohitga014/econometrics-data-/blob/main/Copy_of_close_values_of_2_country_stock_markets.ipynb\" target=\"_parent\"><img src=\"https://colab.research.google.com/assets/colab-badge.svg\" alt=\"Open In Colab\"/></a>"
      ]
    },
    {
      "cell_type": "code",
      "execution_count": null,
      "metadata": {
        "id": "1uIsYb7I2-z9"
      },
      "outputs": [],
      "source": [
        "import pandas as pd"
      ]
    },
    {
      "cell_type": "code",
      "source": [
        "import numpy as np"
      ],
      "metadata": {
        "id": "USO8MAN23aiW"
      },
      "execution_count": null,
      "outputs": []
    },
    {
      "cell_type": "code",
      "source": [
        "import pandas as pd"
      ],
      "metadata": {
        "id": "W5m0evMc3efl"
      },
      "execution_count": null,
      "outputs": []
    },
    {
      "cell_type": "code",
      "source": [
        "ties=pd.read_excel(r'/content/imoex and nifty closing value.xlsx')"
      ],
      "metadata": {
        "id": "UI74-9f_3mBY"
      },
      "execution_count": null,
      "outputs": []
    },
    {
      "cell_type": "code",
      "source": [
        "print(ties)"
      ],
      "metadata": {
        "colab": {
          "base_uri": "https://localhost:8080/"
        },
        "id": "FDbAerqmXJFo",
        "outputId": "79a87ab0-11de-4fd5-ca94-7c44dc5f3e24"
      },
      "execution_count": null,
      "outputs": [
        {
          "output_type": "stream",
          "name": "stdout",
          "text": [
            "                   DATE  NIFTY50- close value  IMOEX.ME- close value\n",
            "0   2021-02-01 00:00:00           14924.25000            3392.729980\n",
            "1   2021-02-08 00:00:00           15163.29981            3427.080078\n",
            "2            15-02-2021           14981.75000            3457.679932\n",
            "3            22-02-2021           14529.15039            3346.639893\n",
            "4   2021-03-01 00:00:00           14938.09961            3414.129883\n",
            "..                  ...                   ...                    ...\n",
            "78  2022-08-01 00:00:00           17397.50000            2054.290039\n",
            "79  2022-08-08 00:00:00           17698.15039            2147.330078\n",
            "80           15-08-2022           17758.44922            2195.159912\n",
            "81           22-08-2022           17558.90039            2268.889893\n",
            "82           29-08-2022           17542.80078            2445.770020\n",
            "\n",
            "[83 rows x 3 columns]\n"
          ]
        }
      ]
    }
  ]
}