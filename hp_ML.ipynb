{
  "nbformat": 4,
  "nbformat_minor": 0,
  "metadata": {
    "colab": {
      "name": "hp_ML",
      "provenance": [],
      "collapsed_sections": [],
      "include_colab_link": true
    },
    "kernelspec": {
      "name": "python3",
      "display_name": "Python 3"
    },
    "language_info": {
      "name": "python"
    },
    "accelerator": "GPU"
  },
  "cells": [
    {
      "cell_type": "markdown",
      "metadata": {
        "id": "view-in-github",
        "colab_type": "text"
      },
      "source": [
        "<a href=\"https://colab.research.google.com/github/Sohitga014/econometrics-data-/blob/main/hp_ML.ipynb\" target=\"_parent\"><img src=\"https://colab.research.google.com/assets/colab-badge.svg\" alt=\"Open In Colab\"/></a>"
      ]
    },
    {
      "cell_type": "code",
      "execution_count": null,
      "metadata": {
        "id": "8RkjmLg5EkWL"
      },
      "outputs": [],
      "source": [
        "import numpy as np\n",
        "import pandas as pd"
      ]
    },
    {
      "cell_type": "code",
      "source": [
        "hp=pd.read_csv('/content/drive/MyDrive/Colab Notebooks/Python docs/hp_ML.csv')\n",
        "hp.sample()"
      ],
      "metadata": {
        "colab": {
          "base_uri": "https://localhost:8080/",
          "height": 197
        },
        "id": "L3Rt4FWqG11f",
        "outputId": "83d57fbd-0f9a-418a-b233-b944f3db8d65"
      },
      "execution_count": null,
      "outputs": [
        {
          "output_type": "execute_result",
          "data": {
            "text/plain": [
              "                 date     price  bedrooms  bathrooms  sqft_living  sqft_lot  \\\n",
              "684  14-05-2014 00:00  267800.0         2        1.0          700      6000   \n",
              "\n",
              "     floors  waterfront  view  condition  sqft_above  sqft_basement  yr_built  \\\n",
              "684     1.0           0     0          4         700              0      1949   \n",
              "\n",
              "     yr_renovated            street       city  statezip country  \n",
              "684          1985  16824 11th Pl NE  Shoreline  WA 98155     USA  "
            ],
            "text/html": [
              "\n",
              "  <div id=\"df-cad65f44-ca63-4ec5-addc-e2c4075aa063\">\n",
              "    <div class=\"colab-df-container\">\n",
              "      <div>\n",
              "<style scoped>\n",
              "    .dataframe tbody tr th:only-of-type {\n",
              "        vertical-align: middle;\n",
              "    }\n",
              "\n",
              "    .dataframe tbody tr th {\n",
              "        vertical-align: top;\n",
              "    }\n",
              "\n",
              "    .dataframe thead th {\n",
              "        text-align: right;\n",
              "    }\n",
              "</style>\n",
              "<table border=\"1\" class=\"dataframe\">\n",
              "  <thead>\n",
              "    <tr style=\"text-align: right;\">\n",
              "      <th></th>\n",
              "      <th>date</th>\n",
              "      <th>price</th>\n",
              "      <th>bedrooms</th>\n",
              "      <th>bathrooms</th>\n",
              "      <th>sqft_living</th>\n",
              "      <th>sqft_lot</th>\n",
              "      <th>floors</th>\n",
              "      <th>waterfront</th>\n",
              "      <th>view</th>\n",
              "      <th>condition</th>\n",
              "      <th>sqft_above</th>\n",
              "      <th>sqft_basement</th>\n",
              "      <th>yr_built</th>\n",
              "      <th>yr_renovated</th>\n",
              "      <th>street</th>\n",
              "      <th>city</th>\n",
              "      <th>statezip</th>\n",
              "      <th>country</th>\n",
              "    </tr>\n",
              "  </thead>\n",
              "  <tbody>\n",
              "    <tr>\n",
              "      <th>684</th>\n",
              "      <td>14-05-2014 00:00</td>\n",
              "      <td>267800.0</td>\n",
              "      <td>2</td>\n",
              "      <td>1.0</td>\n",
              "      <td>700</td>\n",
              "      <td>6000</td>\n",
              "      <td>1.0</td>\n",
              "      <td>0</td>\n",
              "      <td>0</td>\n",
              "      <td>4</td>\n",
              "      <td>700</td>\n",
              "      <td>0</td>\n",
              "      <td>1949</td>\n",
              "      <td>1985</td>\n",
              "      <td>16824 11th Pl NE</td>\n",
              "      <td>Shoreline</td>\n",
              "      <td>WA 98155</td>\n",
              "      <td>USA</td>\n",
              "    </tr>\n",
              "  </tbody>\n",
              "</table>\n",
              "</div>\n",
              "      <button class=\"colab-df-convert\" onclick=\"convertToInteractive('df-cad65f44-ca63-4ec5-addc-e2c4075aa063')\"\n",
              "              title=\"Convert this dataframe to an interactive table.\"\n",
              "              style=\"display:none;\">\n",
              "        \n",
              "  <svg xmlns=\"http://www.w3.org/2000/svg\" height=\"24px\"viewBox=\"0 0 24 24\"\n",
              "       width=\"24px\">\n",
              "    <path d=\"M0 0h24v24H0V0z\" fill=\"none\"/>\n",
              "    <path d=\"M18.56 5.44l.94 2.06.94-2.06 2.06-.94-2.06-.94-.94-2.06-.94 2.06-2.06.94zm-11 1L8.5 8.5l.94-2.06 2.06-.94-2.06-.94L8.5 2.5l-.94 2.06-2.06.94zm10 10l.94 2.06.94-2.06 2.06-.94-2.06-.94-.94-2.06-.94 2.06-2.06.94z\"/><path d=\"M17.41 7.96l-1.37-1.37c-.4-.4-.92-.59-1.43-.59-.52 0-1.04.2-1.43.59L10.3 9.45l-7.72 7.72c-.78.78-.78 2.05 0 2.83L4 21.41c.39.39.9.59 1.41.59.51 0 1.02-.2 1.41-.59l7.78-7.78 2.81-2.81c.8-.78.8-2.07 0-2.86zM5.41 20L4 18.59l7.72-7.72 1.47 1.35L5.41 20z\"/>\n",
              "  </svg>\n",
              "      </button>\n",
              "      \n",
              "  <style>\n",
              "    .colab-df-container {\n",
              "      display:flex;\n",
              "      flex-wrap:wrap;\n",
              "      gap: 12px;\n",
              "    }\n",
              "\n",
              "    .colab-df-convert {\n",
              "      background-color: #E8F0FE;\n",
              "      border: none;\n",
              "      border-radius: 50%;\n",
              "      cursor: pointer;\n",
              "      display: none;\n",
              "      fill: #1967D2;\n",
              "      height: 32px;\n",
              "      padding: 0 0 0 0;\n",
              "      width: 32px;\n",
              "    }\n",
              "\n",
              "    .colab-df-convert:hover {\n",
              "      background-color: #E2EBFA;\n",
              "      box-shadow: 0px 1px 2px rgba(60, 64, 67, 0.3), 0px 1px 3px 1px rgba(60, 64, 67, 0.15);\n",
              "      fill: #174EA6;\n",
              "    }\n",
              "\n",
              "    [theme=dark] .colab-df-convert {\n",
              "      background-color: #3B4455;\n",
              "      fill: #D2E3FC;\n",
              "    }\n",
              "\n",
              "    [theme=dark] .colab-df-convert:hover {\n",
              "      background-color: #434B5C;\n",
              "      box-shadow: 0px 1px 3px 1px rgba(0, 0, 0, 0.15);\n",
              "      filter: drop-shadow(0px 1px 2px rgba(0, 0, 0, 0.3));\n",
              "      fill: #FFFFFF;\n",
              "    }\n",
              "  </style>\n",
              "\n",
              "      <script>\n",
              "        const buttonEl =\n",
              "          document.querySelector('#df-cad65f44-ca63-4ec5-addc-e2c4075aa063 button.colab-df-convert');\n",
              "        buttonEl.style.display =\n",
              "          google.colab.kernel.accessAllowed ? 'block' : 'none';\n",
              "\n",
              "        async function convertToInteractive(key) {\n",
              "          const element = document.querySelector('#df-cad65f44-ca63-4ec5-addc-e2c4075aa063');\n",
              "          const dataTable =\n",
              "            await google.colab.kernel.invokeFunction('convertToInteractive',\n",
              "                                                     [key], {});\n",
              "          if (!dataTable) return;\n",
              "\n",
              "          const docLinkHtml = 'Like what you see? Visit the ' +\n",
              "            '<a target=\"_blank\" href=https://colab.research.google.com/notebooks/data_table.ipynb>data table notebook</a>'\n",
              "            + ' to learn more about interactive tables.';\n",
              "          element.innerHTML = '';\n",
              "          dataTable['output_type'] = 'display_data';\n",
              "          await google.colab.output.renderOutput(dataTable, element);\n",
              "          const docLink = document.createElement('div');\n",
              "          docLink.innerHTML = docLinkHtml;\n",
              "          element.appendChild(docLink);\n",
              "        }\n",
              "      </script>\n",
              "    </div>\n",
              "  </div>\n",
              "  "
            ]
          },
          "metadata": {},
          "execution_count": 2
        }
      ]
    },
    {
      "cell_type": "code",
      "source": [
        "hp.shape"
      ],
      "metadata": {
        "colab": {
          "base_uri": "https://localhost:8080/"
        },
        "id": "6C0KlUMkHJ7q",
        "outputId": "ad2ffa8a-6f68-4c5e-9570-d83a220f738f"
      },
      "execution_count": null,
      "outputs": [
        {
          "output_type": "execute_result",
          "data": {
            "text/plain": [
              "(4600, 18)"
            ]
          },
          "metadata": {},
          "execution_count": 10
        }
      ]
    },
    {
      "cell_type": "code",
      "source": [
        "hp.isnull().sum()"
      ],
      "metadata": {
        "colab": {
          "base_uri": "https://localhost:8080/"
        },
        "id": "9srFmZnsIJrt",
        "outputId": "a3eaac5c-edaa-4f8d-c956-0ffa6db85376"
      },
      "execution_count": null,
      "outputs": [
        {
          "output_type": "execute_result",
          "data": {
            "text/plain": [
              "date             0\n",
              "price            0\n",
              "bedrooms         0\n",
              "bathrooms        0\n",
              "sqft_living      0\n",
              "sqft_lot         0\n",
              "floors           0\n",
              "waterfront       0\n",
              "view             0\n",
              "condition        0\n",
              "sqft_above       0\n",
              "sqft_basement    0\n",
              "yr_built         0\n",
              "yr_renovated     0\n",
              "street           0\n",
              "city             0\n",
              "statezip         0\n",
              "country          0\n",
              "dtype: int64"
            ]
          },
          "metadata": {},
          "execution_count": 11
        }
      ]
    },
    {
      "cell_type": "code",
      "source": [
        "to_drop=['date','street','statezip','country']\n",
        "hp_d=hp.drop(to_drop,axis=1)"
      ],
      "metadata": {
        "id": "E8Dr4lOkJBZm"
      },
      "execution_count": null,
      "outputs": []
    },
    {
      "cell_type": "code",
      "source": [
        "hp_d.head()"
      ],
      "metadata": {
        "colab": {
          "base_uri": "https://localhost:8080/",
          "height": 270
        },
        "id": "2Kio60r4JBUH",
        "outputId": "ace5149f-6127-4559-e1cb-249976611428"
      },
      "execution_count": null,
      "outputs": [
        {
          "output_type": "execute_result",
          "data": {
            "text/plain": [
              "       price  bedrooms  bathrooms  sqft_living  sqft_lot  floors  waterfront  \\\n",
              "0   313000.0         3       1.50         1340      7912     1.5           0   \n",
              "1  2384000.0         5       2.50         3650      9050     2.0           0   \n",
              "2   342000.0         3       2.00         1930     11947     1.0           0   \n",
              "3   420000.0         3       2.25         2000      8030     1.0           0   \n",
              "4   550000.0         4       2.50         1940     10500     1.0           0   \n",
              "\n",
              "   view  condition  sqft_above  sqft_basement  yr_built  yr_renovated  \\\n",
              "0     0          3        1340              0      1955          2005   \n",
              "1     4          5        3370            280      1921             0   \n",
              "2     0          4        1930              0      1966             0   \n",
              "3     0          4        1000           1000      1963             0   \n",
              "4     0          4        1140            800      1976          1992   \n",
              "\n",
              "        city  \n",
              "0  Shoreline  \n",
              "1    Seattle  \n",
              "2       Kent  \n",
              "3   Bellevue  \n",
              "4    Redmond  "
            ],
            "text/html": [
              "\n",
              "  <div id=\"df-80995710-419c-4ac3-8289-225515735824\">\n",
              "    <div class=\"colab-df-container\">\n",
              "      <div>\n",
              "<style scoped>\n",
              "    .dataframe tbody tr th:only-of-type {\n",
              "        vertical-align: middle;\n",
              "    }\n",
              "\n",
              "    .dataframe tbody tr th {\n",
              "        vertical-align: top;\n",
              "    }\n",
              "\n",
              "    .dataframe thead th {\n",
              "        text-align: right;\n",
              "    }\n",
              "</style>\n",
              "<table border=\"1\" class=\"dataframe\">\n",
              "  <thead>\n",
              "    <tr style=\"text-align: right;\">\n",
              "      <th></th>\n",
              "      <th>price</th>\n",
              "      <th>bedrooms</th>\n",
              "      <th>bathrooms</th>\n",
              "      <th>sqft_living</th>\n",
              "      <th>sqft_lot</th>\n",
              "      <th>floors</th>\n",
              "      <th>waterfront</th>\n",
              "      <th>view</th>\n",
              "      <th>condition</th>\n",
              "      <th>sqft_above</th>\n",
              "      <th>sqft_basement</th>\n",
              "      <th>yr_built</th>\n",
              "      <th>yr_renovated</th>\n",
              "      <th>city</th>\n",
              "    </tr>\n",
              "  </thead>\n",
              "  <tbody>\n",
              "    <tr>\n",
              "      <th>0</th>\n",
              "      <td>313000.0</td>\n",
              "      <td>3</td>\n",
              "      <td>1.50</td>\n",
              "      <td>1340</td>\n",
              "      <td>7912</td>\n",
              "      <td>1.5</td>\n",
              "      <td>0</td>\n",
              "      <td>0</td>\n",
              "      <td>3</td>\n",
              "      <td>1340</td>\n",
              "      <td>0</td>\n",
              "      <td>1955</td>\n",
              "      <td>2005</td>\n",
              "      <td>Shoreline</td>\n",
              "    </tr>\n",
              "    <tr>\n",
              "      <th>1</th>\n",
              "      <td>2384000.0</td>\n",
              "      <td>5</td>\n",
              "      <td>2.50</td>\n",
              "      <td>3650</td>\n",
              "      <td>9050</td>\n",
              "      <td>2.0</td>\n",
              "      <td>0</td>\n",
              "      <td>4</td>\n",
              "      <td>5</td>\n",
              "      <td>3370</td>\n",
              "      <td>280</td>\n",
              "      <td>1921</td>\n",
              "      <td>0</td>\n",
              "      <td>Seattle</td>\n",
              "    </tr>\n",
              "    <tr>\n",
              "      <th>2</th>\n",
              "      <td>342000.0</td>\n",
              "      <td>3</td>\n",
              "      <td>2.00</td>\n",
              "      <td>1930</td>\n",
              "      <td>11947</td>\n",
              "      <td>1.0</td>\n",
              "      <td>0</td>\n",
              "      <td>0</td>\n",
              "      <td>4</td>\n",
              "      <td>1930</td>\n",
              "      <td>0</td>\n",
              "      <td>1966</td>\n",
              "      <td>0</td>\n",
              "      <td>Kent</td>\n",
              "    </tr>\n",
              "    <tr>\n",
              "      <th>3</th>\n",
              "      <td>420000.0</td>\n",
              "      <td>3</td>\n",
              "      <td>2.25</td>\n",
              "      <td>2000</td>\n",
              "      <td>8030</td>\n",
              "      <td>1.0</td>\n",
              "      <td>0</td>\n",
              "      <td>0</td>\n",
              "      <td>4</td>\n",
              "      <td>1000</td>\n",
              "      <td>1000</td>\n",
              "      <td>1963</td>\n",
              "      <td>0</td>\n",
              "      <td>Bellevue</td>\n",
              "    </tr>\n",
              "    <tr>\n",
              "      <th>4</th>\n",
              "      <td>550000.0</td>\n",
              "      <td>4</td>\n",
              "      <td>2.50</td>\n",
              "      <td>1940</td>\n",
              "      <td>10500</td>\n",
              "      <td>1.0</td>\n",
              "      <td>0</td>\n",
              "      <td>0</td>\n",
              "      <td>4</td>\n",
              "      <td>1140</td>\n",
              "      <td>800</td>\n",
              "      <td>1976</td>\n",
              "      <td>1992</td>\n",
              "      <td>Redmond</td>\n",
              "    </tr>\n",
              "  </tbody>\n",
              "</table>\n",
              "</div>\n",
              "      <button class=\"colab-df-convert\" onclick=\"convertToInteractive('df-80995710-419c-4ac3-8289-225515735824')\"\n",
              "              title=\"Convert this dataframe to an interactive table.\"\n",
              "              style=\"display:none;\">\n",
              "        \n",
              "  <svg xmlns=\"http://www.w3.org/2000/svg\" height=\"24px\"viewBox=\"0 0 24 24\"\n",
              "       width=\"24px\">\n",
              "    <path d=\"M0 0h24v24H0V0z\" fill=\"none\"/>\n",
              "    <path d=\"M18.56 5.44l.94 2.06.94-2.06 2.06-.94-2.06-.94-.94-2.06-.94 2.06-2.06.94zm-11 1L8.5 8.5l.94-2.06 2.06-.94-2.06-.94L8.5 2.5l-.94 2.06-2.06.94zm10 10l.94 2.06.94-2.06 2.06-.94-2.06-.94-.94-2.06-.94 2.06-2.06.94z\"/><path d=\"M17.41 7.96l-1.37-1.37c-.4-.4-.92-.59-1.43-.59-.52 0-1.04.2-1.43.59L10.3 9.45l-7.72 7.72c-.78.78-.78 2.05 0 2.83L4 21.41c.39.39.9.59 1.41.59.51 0 1.02-.2 1.41-.59l7.78-7.78 2.81-2.81c.8-.78.8-2.07 0-2.86zM5.41 20L4 18.59l7.72-7.72 1.47 1.35L5.41 20z\"/>\n",
              "  </svg>\n",
              "      </button>\n",
              "      \n",
              "  <style>\n",
              "    .colab-df-container {\n",
              "      display:flex;\n",
              "      flex-wrap:wrap;\n",
              "      gap: 12px;\n",
              "    }\n",
              "\n",
              "    .colab-df-convert {\n",
              "      background-color: #E8F0FE;\n",
              "      border: none;\n",
              "      border-radius: 50%;\n",
              "      cursor: pointer;\n",
              "      display: none;\n",
              "      fill: #1967D2;\n",
              "      height: 32px;\n",
              "      padding: 0 0 0 0;\n",
              "      width: 32px;\n",
              "    }\n",
              "\n",
              "    .colab-df-convert:hover {\n",
              "      background-color: #E2EBFA;\n",
              "      box-shadow: 0px 1px 2px rgba(60, 64, 67, 0.3), 0px 1px 3px 1px rgba(60, 64, 67, 0.15);\n",
              "      fill: #174EA6;\n",
              "    }\n",
              "\n",
              "    [theme=dark] .colab-df-convert {\n",
              "      background-color: #3B4455;\n",
              "      fill: #D2E3FC;\n",
              "    }\n",
              "\n",
              "    [theme=dark] .colab-df-convert:hover {\n",
              "      background-color: #434B5C;\n",
              "      box-shadow: 0px 1px 3px 1px rgba(0, 0, 0, 0.15);\n",
              "      filter: drop-shadow(0px 1px 2px rgba(0, 0, 0, 0.3));\n",
              "      fill: #FFFFFF;\n",
              "    }\n",
              "  </style>\n",
              "\n",
              "      <script>\n",
              "        const buttonEl =\n",
              "          document.querySelector('#df-80995710-419c-4ac3-8289-225515735824 button.colab-df-convert');\n",
              "        buttonEl.style.display =\n",
              "          google.colab.kernel.accessAllowed ? 'block' : 'none';\n",
              "\n",
              "        async function convertToInteractive(key) {\n",
              "          const element = document.querySelector('#df-80995710-419c-4ac3-8289-225515735824');\n",
              "          const dataTable =\n",
              "            await google.colab.kernel.invokeFunction('convertToInteractive',\n",
              "                                                     [key], {});\n",
              "          if (!dataTable) return;\n",
              "\n",
              "          const docLinkHtml = 'Like what you see? Visit the ' +\n",
              "            '<a target=\"_blank\" href=https://colab.research.google.com/notebooks/data_table.ipynb>data table notebook</a>'\n",
              "            + ' to learn more about interactive tables.';\n",
              "          element.innerHTML = '';\n",
              "          dataTable['output_type'] = 'display_data';\n",
              "          await google.colab.output.renderOutput(dataTable, element);\n",
              "          const docLink = document.createElement('div');\n",
              "          docLink.innerHTML = docLinkHtml;\n",
              "          element.appendChild(docLink);\n",
              "        }\n",
              "      </script>\n",
              "    </div>\n",
              "  </div>\n",
              "  "
            ]
          },
          "metadata": {},
          "execution_count": 15
        }
      ]
    },
    {
      "cell_type": "code",
      "source": [
        "hp_d['house_age']=[2022-yr_built for yr_built in hp_d['yr_built']]"
      ],
      "metadata": {
        "id": "Shgl2zCrLX4d"
      },
      "execution_count": null,
      "outputs": []
    },
    {
      "cell_type": "code",
      "source": [
        "hp_d['was_renovated'] = [1 if yr_renovated != 0 else 0 for yr_renovated in hp_d['yr_renovated']]\n",
        "hp_d['was_renovated_10_yrs'] = [1 if (2022 - yr_renovated) <= 10 else 0 for yr_renovated in hp_d['yr_renovated']]\n",
        "hp_d['was_renovated_30_yrs'] = [1 if 10 < (2022 - yr_renovated) <= 30 else 0 for yr_renovated in hp_d['yr_renovated']]"
      ],
      "metadata": {
        "id": "IFKEsGuBMGbl"
      },
      "execution_count": null,
      "outputs": []
    },
    {
      "cell_type": "code",
      "source": [
        "hp_2d=hp_d.drop(['yr_built','yr_renovated'],axis=1)"
      ],
      "metadata": {
        "id": "tZbFBdw8NXDK"
      },
      "execution_count": null,
      "outputs": []
    },
    {
      "cell_type": "code",
      "source": [
        "hp_2d.head()"
      ],
      "metadata": {
        "colab": {
          "base_uri": "https://localhost:8080/",
          "height": 270
        },
        "id": "L8l3eWsgN9Fh",
        "outputId": "dd2d523b-c927-443b-8405-bee5fb309d5a"
      },
      "execution_count": null,
      "outputs": [
        {
          "output_type": "execute_result",
          "data": {
            "text/plain": [
              "       price  bedrooms  bathrooms  sqft_living  sqft_lot  floors  waterfront  \\\n",
              "0   313000.0         3       1.50         1340      7912     1.5           0   \n",
              "1  2384000.0         5       2.50         3650      9050     2.0           0   \n",
              "2   342000.0         3       2.00         1930     11947     1.0           0   \n",
              "3   420000.0         3       2.25         2000      8030     1.0           0   \n",
              "4   550000.0         4       2.50         1940     10500     1.0           0   \n",
              "\n",
              "   view  condition  sqft_above  sqft_basement       city  house_age  \\\n",
              "0     0          3        1340              0  Shoreline         67   \n",
              "1     4          5        3370            280    Seattle        101   \n",
              "2     0          4        1930              0       Kent         56   \n",
              "3     0          4        1000           1000   Bellevue         59   \n",
              "4     0          4        1140            800    Redmond         46   \n",
              "\n",
              "   was_renovated  was_renovated_10_yrs  was_renovated_30_yrs  \n",
              "0              1                     0                     1  \n",
              "1              0                     0                     0  \n",
              "2              0                     0                     0  \n",
              "3              0                     0                     0  \n",
              "4              1                     0                     1  "
            ],
            "text/html": [
              "\n",
              "  <div id=\"df-e98a98ac-8ca7-494d-a19f-e5565a104952\">\n",
              "    <div class=\"colab-df-container\">\n",
              "      <div>\n",
              "<style scoped>\n",
              "    .dataframe tbody tr th:only-of-type {\n",
              "        vertical-align: middle;\n",
              "    }\n",
              "\n",
              "    .dataframe tbody tr th {\n",
              "        vertical-align: top;\n",
              "    }\n",
              "\n",
              "    .dataframe thead th {\n",
              "        text-align: right;\n",
              "    }\n",
              "</style>\n",
              "<table border=\"1\" class=\"dataframe\">\n",
              "  <thead>\n",
              "    <tr style=\"text-align: right;\">\n",
              "      <th></th>\n",
              "      <th>price</th>\n",
              "      <th>bedrooms</th>\n",
              "      <th>bathrooms</th>\n",
              "      <th>sqft_living</th>\n",
              "      <th>sqft_lot</th>\n",
              "      <th>floors</th>\n",
              "      <th>waterfront</th>\n",
              "      <th>view</th>\n",
              "      <th>condition</th>\n",
              "      <th>sqft_above</th>\n",
              "      <th>sqft_basement</th>\n",
              "      <th>city</th>\n",
              "      <th>house_age</th>\n",
              "      <th>was_renovated</th>\n",
              "      <th>was_renovated_10_yrs</th>\n",
              "      <th>was_renovated_30_yrs</th>\n",
              "    </tr>\n",
              "  </thead>\n",
              "  <tbody>\n",
              "    <tr>\n",
              "      <th>0</th>\n",
              "      <td>313000.0</td>\n",
              "      <td>3</td>\n",
              "      <td>1.50</td>\n",
              "      <td>1340</td>\n",
              "      <td>7912</td>\n",
              "      <td>1.5</td>\n",
              "      <td>0</td>\n",
              "      <td>0</td>\n",
              "      <td>3</td>\n",
              "      <td>1340</td>\n",
              "      <td>0</td>\n",
              "      <td>Shoreline</td>\n",
              "      <td>67</td>\n",
              "      <td>1</td>\n",
              "      <td>0</td>\n",
              "      <td>1</td>\n",
              "    </tr>\n",
              "    <tr>\n",
              "      <th>1</th>\n",
              "      <td>2384000.0</td>\n",
              "      <td>5</td>\n",
              "      <td>2.50</td>\n",
              "      <td>3650</td>\n",
              "      <td>9050</td>\n",
              "      <td>2.0</td>\n",
              "      <td>0</td>\n",
              "      <td>4</td>\n",
              "      <td>5</td>\n",
              "      <td>3370</td>\n",
              "      <td>280</td>\n",
              "      <td>Seattle</td>\n",
              "      <td>101</td>\n",
              "      <td>0</td>\n",
              "      <td>0</td>\n",
              "      <td>0</td>\n",
              "    </tr>\n",
              "    <tr>\n",
              "      <th>2</th>\n",
              "      <td>342000.0</td>\n",
              "      <td>3</td>\n",
              "      <td>2.00</td>\n",
              "      <td>1930</td>\n",
              "      <td>11947</td>\n",
              "      <td>1.0</td>\n",
              "      <td>0</td>\n",
              "      <td>0</td>\n",
              "      <td>4</td>\n",
              "      <td>1930</td>\n",
              "      <td>0</td>\n",
              "      <td>Kent</td>\n",
              "      <td>56</td>\n",
              "      <td>0</td>\n",
              "      <td>0</td>\n",
              "      <td>0</td>\n",
              "    </tr>\n",
              "    <tr>\n",
              "      <th>3</th>\n",
              "      <td>420000.0</td>\n",
              "      <td>3</td>\n",
              "      <td>2.25</td>\n",
              "      <td>2000</td>\n",
              "      <td>8030</td>\n",
              "      <td>1.0</td>\n",
              "      <td>0</td>\n",
              "      <td>0</td>\n",
              "      <td>4</td>\n",
              "      <td>1000</td>\n",
              "      <td>1000</td>\n",
              "      <td>Bellevue</td>\n",
              "      <td>59</td>\n",
              "      <td>0</td>\n",
              "      <td>0</td>\n",
              "      <td>0</td>\n",
              "    </tr>\n",
              "    <tr>\n",
              "      <th>4</th>\n",
              "      <td>550000.0</td>\n",
              "      <td>4</td>\n",
              "      <td>2.50</td>\n",
              "      <td>1940</td>\n",
              "      <td>10500</td>\n",
              "      <td>1.0</td>\n",
              "      <td>0</td>\n",
              "      <td>0</td>\n",
              "      <td>4</td>\n",
              "      <td>1140</td>\n",
              "      <td>800</td>\n",
              "      <td>Redmond</td>\n",
              "      <td>46</td>\n",
              "      <td>1</td>\n",
              "      <td>0</td>\n",
              "      <td>1</td>\n",
              "    </tr>\n",
              "  </tbody>\n",
              "</table>\n",
              "</div>\n",
              "      <button class=\"colab-df-convert\" onclick=\"convertToInteractive('df-e98a98ac-8ca7-494d-a19f-e5565a104952')\"\n",
              "              title=\"Convert this dataframe to an interactive table.\"\n",
              "              style=\"display:none;\">\n",
              "        \n",
              "  <svg xmlns=\"http://www.w3.org/2000/svg\" height=\"24px\"viewBox=\"0 0 24 24\"\n",
              "       width=\"24px\">\n",
              "    <path d=\"M0 0h24v24H0V0z\" fill=\"none\"/>\n",
              "    <path d=\"M18.56 5.44l.94 2.06.94-2.06 2.06-.94-2.06-.94-.94-2.06-.94 2.06-2.06.94zm-11 1L8.5 8.5l.94-2.06 2.06-.94-2.06-.94L8.5 2.5l-.94 2.06-2.06.94zm10 10l.94 2.06.94-2.06 2.06-.94-2.06-.94-.94-2.06-.94 2.06-2.06.94z\"/><path d=\"M17.41 7.96l-1.37-1.37c-.4-.4-.92-.59-1.43-.59-.52 0-1.04.2-1.43.59L10.3 9.45l-7.72 7.72c-.78.78-.78 2.05 0 2.83L4 21.41c.39.39.9.59 1.41.59.51 0 1.02-.2 1.41-.59l7.78-7.78 2.81-2.81c.8-.78.8-2.07 0-2.86zM5.41 20L4 18.59l7.72-7.72 1.47 1.35L5.41 20z\"/>\n",
              "  </svg>\n",
              "      </button>\n",
              "      \n",
              "  <style>\n",
              "    .colab-df-container {\n",
              "      display:flex;\n",
              "      flex-wrap:wrap;\n",
              "      gap: 12px;\n",
              "    }\n",
              "\n",
              "    .colab-df-convert {\n",
              "      background-color: #E8F0FE;\n",
              "      border: none;\n",
              "      border-radius: 50%;\n",
              "      cursor: pointer;\n",
              "      display: none;\n",
              "      fill: #1967D2;\n",
              "      height: 32px;\n",
              "      padding: 0 0 0 0;\n",
              "      width: 32px;\n",
              "    }\n",
              "\n",
              "    .colab-df-convert:hover {\n",
              "      background-color: #E2EBFA;\n",
              "      box-shadow: 0px 1px 2px rgba(60, 64, 67, 0.3), 0px 1px 3px 1px rgba(60, 64, 67, 0.15);\n",
              "      fill: #174EA6;\n",
              "    }\n",
              "\n",
              "    [theme=dark] .colab-df-convert {\n",
              "      background-color: #3B4455;\n",
              "      fill: #D2E3FC;\n",
              "    }\n",
              "\n",
              "    [theme=dark] .colab-df-convert:hover {\n",
              "      background-color: #434B5C;\n",
              "      box-shadow: 0px 1px 3px 1px rgba(0, 0, 0, 0.15);\n",
              "      filter: drop-shadow(0px 1px 2px rgba(0, 0, 0, 0.3));\n",
              "      fill: #FFFFFF;\n",
              "    }\n",
              "  </style>\n",
              "\n",
              "      <script>\n",
              "        const buttonEl =\n",
              "          document.querySelector('#df-e98a98ac-8ca7-494d-a19f-e5565a104952 button.colab-df-convert');\n",
              "        buttonEl.style.display =\n",
              "          google.colab.kernel.accessAllowed ? 'block' : 'none';\n",
              "\n",
              "        async function convertToInteractive(key) {\n",
              "          const element = document.querySelector('#df-e98a98ac-8ca7-494d-a19f-e5565a104952');\n",
              "          const dataTable =\n",
              "            await google.colab.kernel.invokeFunction('convertToInteractive',\n",
              "                                                     [key], {});\n",
              "          if (!dataTable) return;\n",
              "\n",
              "          const docLinkHtml = 'Like what you see? Visit the ' +\n",
              "            '<a target=\"_blank\" href=https://colab.research.google.com/notebooks/data_table.ipynb>data table notebook</a>'\n",
              "            + ' to learn more about interactive tables.';\n",
              "          element.innerHTML = '';\n",
              "          dataTable['output_type'] = 'display_data';\n",
              "          await google.colab.output.renderOutput(dataTable, element);\n",
              "          const docLink = document.createElement('div');\n",
              "          docLink.innerHTML = docLinkHtml;\n",
              "          element.appendChild(docLink);\n",
              "        }\n",
              "      </script>\n",
              "    </div>\n",
              "  </div>\n",
              "  "
            ]
          },
          "metadata": {},
          "execution_count": 8
        }
      ]
    },
    {
      "cell_type": "code",
      "source": [
        "hp_2d['city'].value_counts()"
      ],
      "metadata": {
        "colab": {
          "base_uri": "https://localhost:8080/"
        },
        "id": "TXxfasccN9LP",
        "outputId": "5ba5ddc3-9a36-4c5d-bd38-12969c0e7bbb"
      },
      "execution_count": null,
      "outputs": [
        {
          "output_type": "execute_result",
          "data": {
            "text/plain": [
              "Seattle                1573\n",
              "Renton                  293\n",
              "Bellevue                286\n",
              "Redmond                 235\n",
              "Issaquah                187\n",
              "Kirkland                187\n",
              "Kent                    185\n",
              "Auburn                  176\n",
              "Sammamish               175\n",
              "Federal Way             148\n",
              "Shoreline               123\n",
              "Woodinville             115\n",
              "Maple Valley             96\n",
              "Mercer Island            86\n",
              "Burien                   74\n",
              "Snoqualmie               71\n",
              "Kenmore                  66\n",
              "Des Moines               58\n",
              "North Bend               50\n",
              "Covington                43\n",
              "Duvall                   42\n",
              "Lake Forest Park         36\n",
              "Bothell                  33\n",
              "Newcastle                33\n",
              "SeaTac                   29\n",
              "Tukwila                  29\n",
              "Vashon                   29\n",
              "Enumclaw                 28\n",
              "Carnation                22\n",
              "Normandy Park            18\n",
              "Clyde Hill               11\n",
              "Medina                   11\n",
              "Fall City                11\n",
              "Black Diamond             9\n",
              "Ravensdale                7\n",
              "Pacific                   6\n",
              "Algona                    5\n",
              "Yarrow Point              4\n",
              "Skykomish                 3\n",
              "Preston                   2\n",
              "Milton                    2\n",
              "Inglewood-Finn Hill       1\n",
              "Snoqualmie Pass           1\n",
              "Beaux Arts Village        1\n",
              "Name: city, dtype: int64"
            ]
          },
          "metadata": {},
          "execution_count": 7
        }
      ]
    },
    {
      "cell_type": "code",
      "source": [
        "def remap_location(data: pd.DataFrame, location: str, threshold: int = 50) -> str:\n",
        "    if len(hp_2d[hp_2d['city'] == location]) < threshold:\n",
        "        return 'Rare'\n",
        "    return location"
      ],
      "metadata": {
        "id": "2tLM44i5RBW1"
      },
      "execution_count": null,
      "outputs": []
    },
    {
      "cell_type": "code",
      "source": [
        "remap_location(hp_2d,location='milton')"
      ],
      "metadata": {
        "colab": {
          "base_uri": "https://localhost:8080/",
          "height": 35
        },
        "id": "fu3TQ7DLRhsv",
        "outputId": "1daeb564-d2bf-413d-b4fd-5b17da88e156"
      },
      "execution_count": null,
      "outputs": [
        {
          "output_type": "execute_result",
          "data": {
            "text/plain": [
              "'Rare'"
            ],
            "application/vnd.google.colaboratory.intrinsic+json": {
              "type": "string"
            }
          },
          "metadata": {},
          "execution_count": 9
        }
      ]
    },
    {
      "cell_type": "code",
      "source": [
        "remap_location(hp_2d,location='Seattle')"
      ],
      "metadata": {
        "colab": {
          "base_uri": "https://localhost:8080/",
          "height": 35
        },
        "id": "BVNWNLjUSHEG",
        "outputId": "1fc33a06-f517-4871-b647-17cf15579a4b"
      },
      "execution_count": null,
      "outputs": [
        {
          "output_type": "execute_result",
          "data": {
            "text/plain": [
              "'Seattle'"
            ],
            "application/vnd.google.colaboratory.intrinsic+json": {
              "type": "string"
            }
          },
          "metadata": {},
          "execution_count": 10
        }
      ]
    },
    {
      "cell_type": "code",
      "source": [
        "hp_2d['city'] = hp_2d['city'].apply(lambda x: remap_location(hp_2d, location=x))\n",
        "hp_2d['city']"
      ],
      "metadata": {
        "colab": {
          "base_uri": "https://localhost:8080/"
        },
        "id": "fjxTzqr3Upv9",
        "outputId": "887af4e9-d83c-414c-dd83-a1c184a16944"
      },
      "execution_count": null,
      "outputs": [
        {
          "output_type": "execute_result",
          "data": {
            "text/plain": [
              "0       Shoreline\n",
              "1         Seattle\n",
              "2            Kent\n",
              "3        Bellevue\n",
              "4         Redmond\n",
              "          ...    \n",
              "4595      Seattle\n",
              "4596     Bellevue\n",
              "4597       Renton\n",
              "4598      Seattle\n",
              "4599         Rare\n",
              "Name: city, Length: 4600, dtype: object"
            ]
          },
          "metadata": {},
          "execution_count": 11
        }
      ]
    },
    {
      "cell_type": "code",
      "source": [
        "from sklearn.compose import make_column_transformer\n",
        "from sklearn.preprocessing import MinMaxScaler, OneHotEncoder\n",
        "\n",
        "transformer = make_column_transformer(\n",
        "    (MinMaxScaler(), ['sqft_living', 'sqft_lot', 'sqft_above', 'sqft_basement', 'house_age']),\n",
        "    (OneHotEncoder(handle_unknown='ignore'), ['bedrooms', 'bathrooms', 'floors', 'view', 'condition'])\n",
        ")"
      ],
      "metadata": {
        "id": "jQlGniR9XtgI"
      },
      "execution_count": null,
      "outputs": []
    },
    {
      "cell_type": "code",
      "source": [
        "from sklearn.model_selection import train_test_split\n",
        "X=hp_2d.drop('price',axis=1)\n",
        "Y=hp_2d['price']"
      ],
      "metadata": {
        "id": "Pfk02XvgX9e9"
      },
      "execution_count": null,
      "outputs": []
    },
    {
      "cell_type": "code",
      "source": [
        "X_train,X_test,Y_train,Y_test=train_test_split(X,Y,train_size=0.8,random_state=42)"
      ],
      "metadata": {
        "id": "G-Cp4hdVYyr0"
      },
      "execution_count": null,
      "outputs": []
    },
    {
      "cell_type": "code",
      "source": [
        "X_train.shape,X_test.shape,Y_train.shape,Y_test.shape"
      ],
      "metadata": {
        "colab": {
          "base_uri": "https://localhost:8080/"
        },
        "id": "Wxg65z--Z06-",
        "outputId": "aac88132-6c54-424b-e51d-4eb785605f52"
      },
      "execution_count": null,
      "outputs": [
        {
          "output_type": "execute_result",
          "data": {
            "text/plain": [
              "((3680, 15), (920, 15), (3680,), (920,))"
            ]
          },
          "metadata": {},
          "execution_count": 32
        }
      ]
    },
    {
      "cell_type": "code",
      "source": [
        "# Fit on the train set\n",
        "transformer.fit(X_train)\n",
        "\n",
        "# Apply the transformation\n",
        "X_train_tf = transformer.transform(X_train)\n",
        "X_test_tf = transformer.transform(X_test)"
      ],
      "metadata": {
        "id": "jJXNZNIZa6qn"
      },
      "execution_count": null,
      "outputs": []
    },
    {
      "cell_type": "code",
      "source": [
        "X_train_tf.shape, X_test_tf.shape"
      ],
      "metadata": {
        "id": "_yS6fvWj7c5m",
        "colab": {
          "base_uri": "https://localhost:8080/"
        },
        "outputId": "55f76243-1952-4bfa-bc55-bfd3ad309695"
      },
      "execution_count": null,
      "outputs": [
        {
          "output_type": "execute_result",
          "data": {
            "text/plain": [
              "((3680, 55), (920, 55))"
            ]
          },
          "metadata": {},
          "execution_count": 34
        }
      ]
    },
    {
      "cell_type": "code",
      "source": [
        "X_train_tf"
      ],
      "metadata": {
        "colab": {
          "base_uri": "https://localhost:8080/"
        },
        "id": "UNvo4PLOCopY",
        "outputId": "146566e6-ff63-4887-808c-14136d68ad4f"
      },
      "execution_count": null,
      "outputs": [
        {
          "output_type": "execute_result",
          "data": {
            "text/plain": [
              "<3680x55 sparse matrix of type '<class 'numpy.float64'>'\n",
              "\twith 34559 stored elements in Compressed Sparse Row format>"
            ]
          },
          "metadata": {},
          "execution_count": 35
        }
      ]
    },
    {
      "cell_type": "code",
      "source": [
        "X_train_tf.toarray()"
      ],
      "metadata": {
        "colab": {
          "base_uri": "https://localhost:8080/"
        },
        "id": "-33uxTJHC35y",
        "outputId": "2df649b8-1960-4960-b7e3-afee5f42238a"
      },
      "execution_count": null,
      "outputs": [
        {
          "output_type": "execute_result",
          "data": {
            "text/plain": [
              "array([[0.24819028, 0.04180033, 0.31372549, ..., 0.        , 1.        ,\n",
              "        0.        ],\n",
              "       [0.34643226, 0.02645821, 0.4379085 , ..., 1.        , 0.        ,\n",
              "        0.        ],\n",
              "       [0.25232678, 0.00976359, 0.31895425, ..., 1.        , 0.        ,\n",
              "        0.        ],\n",
              "       ...,\n",
              "       [0.08066184, 0.00699249, 0.08104575, ..., 0.        , 1.        ,\n",
              "        0.        ],\n",
              "       [0.05584281, 0.00127052, 0.07058824, ..., 1.        , 0.        ,\n",
              "        0.        ],\n",
              "       [0.11582213, 0.00296857, 0.06405229, ..., 1.        , 0.        ,\n",
              "        0.        ]])"
            ]
          },
          "metadata": {},
          "execution_count": 36
        }
      ]
    },
    {
      "cell_type": "code",
      "source": [
        "X_train_tf_2A=X_train_tf.toarray()\n",
        "X_test_tf_2A=X_test_tf.toarray()"
      ],
      "metadata": {
        "id": "V3DjLVjgaJOp"
      },
      "execution_count": null,
      "outputs": []
    },
    {
      "cell_type": "code",
      "source": [
        "import tensorflow as tf\n",
        "from tensorflow.keras import Sequential\n",
        "from tensorflow.keras.layers import Dense\n",
        "from tensorflow.keras.optimizers import Adam\n",
        "from tensorflow.keras import backend as K"
      ],
      "metadata": {
        "id": "PyePn363a29z"
      },
      "execution_count": null,
      "outputs": []
    },
    {
      "cell_type": "code",
      "source": [
        "def rmse(Y_true,Y_pred):\n",
        "  return K.sqrt(K.mean(K.square(Y_pred-Y_true)))"
      ],
      "metadata": {
        "id": "Rw7783EkbqdM"
      },
      "execution_count": null,
      "outputs": []
    },
    {
      "cell_type": "code",
      "source": [
        "tf.random.set_seed(42)\n",
        "\n",
        "model = Sequential([\n",
        "    Dense(256, activation='relu'),\n",
        "    Dense(256, activation='relu'),\n",
        "    Dense(128, activation='relu'),\n",
        "    Dense(1)\n",
        "])\n",
        "\n",
        "model.compile(\n",
        "    loss=rmse,\n",
        "    optimizer=Adam(),\n",
        "    metrics=[rmse]\n",
        ")\n",
        "\n",
        "model.fit(X_train_tf_2A, Y_train, epochs=100)"
      ],
      "metadata": {
        "colab": {
          "base_uri": "https://localhost:8080/"
        },
        "id": "OABMrbcEcnb4",
        "outputId": "14712f13-2f3b-408b-a7bd-230cc104cee5"
      },
      "execution_count": null,
      "outputs": [
        {
          "output_type": "stream",
          "name": "stdout",
          "text": [
            "Epoch 1/100\n",
            "115/115 [==============================] - 3s 2ms/step - loss: 645256.4375 - rmse: 645256.4375\n",
            "Epoch 2/100\n",
            "115/115 [==============================] - 0s 2ms/step - loss: 472775.9375 - rmse: 472775.9375\n",
            "Epoch 3/100\n",
            "115/115 [==============================] - 0s 2ms/step - loss: 320366.5000 - rmse: 320366.5000\n",
            "Epoch 4/100\n",
            "115/115 [==============================] - 0s 2ms/step - loss: 302853.2812 - rmse: 302853.2812\n",
            "Epoch 5/100\n",
            "115/115 [==============================] - 0s 2ms/step - loss: 289253.3125 - rmse: 289253.3125\n",
            "Epoch 6/100\n",
            "115/115 [==============================] - 0s 2ms/step - loss: 283768.6875 - rmse: 283768.6875\n",
            "Epoch 7/100\n",
            "115/115 [==============================] - 0s 2ms/step - loss: 276237.8750 - rmse: 276237.8750\n",
            "Epoch 8/100\n",
            "115/115 [==============================] - 0s 2ms/step - loss: 269233.0000 - rmse: 269233.0000\n",
            "Epoch 9/100\n",
            "115/115 [==============================] - 0s 2ms/step - loss: 267987.9062 - rmse: 267987.9062\n",
            "Epoch 10/100\n",
            "115/115 [==============================] - 0s 2ms/step - loss: 263329.0000 - rmse: 263329.0000\n",
            "Epoch 11/100\n",
            "115/115 [==============================] - 0s 2ms/step - loss: 261456.9375 - rmse: 261456.9375\n",
            "Epoch 12/100\n",
            "115/115 [==============================] - 0s 2ms/step - loss: 256144.6094 - rmse: 256144.6094\n",
            "Epoch 13/100\n",
            "115/115 [==============================] - 0s 2ms/step - loss: 255904.7500 - rmse: 255904.7500\n",
            "Epoch 14/100\n",
            "115/115 [==============================] - 0s 2ms/step - loss: 255290.2500 - rmse: 255290.2500\n",
            "Epoch 15/100\n",
            "115/115 [==============================] - 0s 2ms/step - loss: 255321.8125 - rmse: 255321.8125\n",
            "Epoch 16/100\n",
            "115/115 [==============================] - 0s 2ms/step - loss: 254979.0469 - rmse: 254979.0469\n",
            "Epoch 17/100\n",
            "115/115 [==============================] - 0s 2ms/step - loss: 251212.6094 - rmse: 251212.6094\n",
            "Epoch 18/100\n",
            "115/115 [==============================] - 0s 2ms/step - loss: 249742.0625 - rmse: 249742.0625\n",
            "Epoch 19/100\n",
            "115/115 [==============================] - 0s 2ms/step - loss: 249308.9219 - rmse: 249308.9219\n",
            "Epoch 20/100\n",
            "115/115 [==============================] - 0s 2ms/step - loss: 247875.7344 - rmse: 247875.7344\n",
            "Epoch 21/100\n",
            "115/115 [==============================] - 0s 2ms/step - loss: 246876.3125 - rmse: 246876.3125\n",
            "Epoch 22/100\n",
            "115/115 [==============================] - 0s 2ms/step - loss: 243672.3125 - rmse: 243672.3125\n",
            "Epoch 23/100\n",
            "115/115 [==============================] - 0s 2ms/step - loss: 246428.0156 - rmse: 246428.0156\n",
            "Epoch 24/100\n",
            "115/115 [==============================] - 0s 2ms/step - loss: 243619.2031 - rmse: 243619.2031\n",
            "Epoch 25/100\n",
            "115/115 [==============================] - 0s 2ms/step - loss: 245959.9062 - rmse: 245959.9062\n",
            "Epoch 26/100\n",
            "115/115 [==============================] - 0s 2ms/step - loss: 242571.2812 - rmse: 242571.2812\n",
            "Epoch 27/100\n",
            "115/115 [==============================] - 0s 2ms/step - loss: 243738.9844 - rmse: 243738.9844\n",
            "Epoch 28/100\n",
            "115/115 [==============================] - 0s 2ms/step - loss: 242777.4375 - rmse: 242777.4375\n",
            "Epoch 29/100\n",
            "115/115 [==============================] - 0s 2ms/step - loss: 240086.7188 - rmse: 240086.7188\n",
            "Epoch 30/100\n",
            "115/115 [==============================] - 0s 2ms/step - loss: 239665.7188 - rmse: 239665.7188\n",
            "Epoch 31/100\n",
            "115/115 [==============================] - 0s 2ms/step - loss: 241850.5156 - rmse: 241850.5156\n",
            "Epoch 32/100\n",
            "115/115 [==============================] - 0s 2ms/step - loss: 238661.2031 - rmse: 238661.2031\n",
            "Epoch 33/100\n",
            "115/115 [==============================] - 0s 2ms/step - loss: 238372.9062 - rmse: 238372.9062\n",
            "Epoch 34/100\n",
            "115/115 [==============================] - 0s 2ms/step - loss: 238709.2031 - rmse: 238709.2031\n",
            "Epoch 35/100\n",
            "115/115 [==============================] - 0s 2ms/step - loss: 238917.6406 - rmse: 238917.6406\n",
            "Epoch 36/100\n",
            "115/115 [==============================] - 0s 2ms/step - loss: 238828.2812 - rmse: 238828.2812\n",
            "Epoch 37/100\n",
            "115/115 [==============================] - 0s 2ms/step - loss: 234227.5469 - rmse: 234227.5469\n",
            "Epoch 38/100\n",
            "115/115 [==============================] - 0s 2ms/step - loss: 237662.4219 - rmse: 237662.4219\n",
            "Epoch 39/100\n",
            "115/115 [==============================] - 0s 2ms/step - loss: 236994.9219 - rmse: 236994.9219\n",
            "Epoch 40/100\n",
            "115/115 [==============================] - 0s 2ms/step - loss: 236131.2656 - rmse: 236131.2656\n",
            "Epoch 41/100\n",
            "115/115 [==============================] - 0s 2ms/step - loss: 237647.3438 - rmse: 237647.3438\n",
            "Epoch 42/100\n",
            "115/115 [==============================] - 0s 2ms/step - loss: 233102.2500 - rmse: 233102.2500\n",
            "Epoch 43/100\n",
            "115/115 [==============================] - 0s 2ms/step - loss: 235279.2656 - rmse: 235279.2656\n",
            "Epoch 44/100\n",
            "115/115 [==============================] - 0s 2ms/step - loss: 234040.6562 - rmse: 234040.6562\n",
            "Epoch 45/100\n",
            "115/115 [==============================] - 0s 2ms/step - loss: 232806.4219 - rmse: 232806.4219\n",
            "Epoch 46/100\n",
            "115/115 [==============================] - 0s 2ms/step - loss: 234950.3438 - rmse: 234950.3438\n",
            "Epoch 47/100\n",
            "115/115 [==============================] - 0s 2ms/step - loss: 234574.0938 - rmse: 234574.0938\n",
            "Epoch 48/100\n",
            "115/115 [==============================] - 0s 2ms/step - loss: 233513.7969 - rmse: 233513.7969\n",
            "Epoch 49/100\n",
            "115/115 [==============================] - 0s 2ms/step - loss: 232200.4219 - rmse: 232200.4219\n",
            "Epoch 50/100\n",
            "115/115 [==============================] - 0s 2ms/step - loss: 233039.3750 - rmse: 233039.3750\n",
            "Epoch 51/100\n",
            "115/115 [==============================] - 0s 2ms/step - loss: 233513.0156 - rmse: 233513.0156\n",
            "Epoch 52/100\n",
            "115/115 [==============================] - 0s 2ms/step - loss: 233849.6406 - rmse: 233849.6406\n",
            "Epoch 53/100\n",
            "115/115 [==============================] - 0s 2ms/step - loss: 232820.1094 - rmse: 232820.1094\n",
            "Epoch 54/100\n",
            "115/115 [==============================] - 0s 2ms/step - loss: 232648.0938 - rmse: 232648.0938\n",
            "Epoch 55/100\n",
            "115/115 [==============================] - 0s 2ms/step - loss: 233704.2031 - rmse: 233704.2031\n",
            "Epoch 56/100\n",
            "115/115 [==============================] - 0s 2ms/step - loss: 232680.3594 - rmse: 232680.3594\n",
            "Epoch 57/100\n",
            "115/115 [==============================] - 0s 2ms/step - loss: 232567.1719 - rmse: 232567.1719\n",
            "Epoch 58/100\n",
            "115/115 [==============================] - 0s 2ms/step - loss: 232086.6250 - rmse: 232086.6250\n",
            "Epoch 59/100\n",
            "115/115 [==============================] - 0s 2ms/step - loss: 230777.8594 - rmse: 230777.8594\n",
            "Epoch 60/100\n",
            "115/115 [==============================] - 0s 2ms/step - loss: 231835.3906 - rmse: 231835.3906\n",
            "Epoch 61/100\n",
            "115/115 [==============================] - 0s 2ms/step - loss: 230951.2500 - rmse: 230951.2500\n",
            "Epoch 62/100\n",
            "115/115 [==============================] - 0s 2ms/step - loss: 231321.1250 - rmse: 231321.1250\n",
            "Epoch 63/100\n",
            "115/115 [==============================] - 0s 2ms/step - loss: 231198.6250 - rmse: 231198.6250\n",
            "Epoch 64/100\n",
            "115/115 [==============================] - 0s 2ms/step - loss: 232849.9688 - rmse: 232849.9688\n",
            "Epoch 65/100\n",
            "115/115 [==============================] - 0s 2ms/step - loss: 229936.5625 - rmse: 229936.5625\n",
            "Epoch 66/100\n",
            "115/115 [==============================] - 0s 2ms/step - loss: 232034.7812 - rmse: 232034.7812\n",
            "Epoch 67/100\n",
            "115/115 [==============================] - 0s 2ms/step - loss: 232409.7812 - rmse: 232409.7812\n",
            "Epoch 68/100\n",
            "115/115 [==============================] - 0s 2ms/step - loss: 229381.7188 - rmse: 229381.7188\n",
            "Epoch 69/100\n",
            "115/115 [==============================] - 0s 3ms/step - loss: 232626.5000 - rmse: 232626.5000\n",
            "Epoch 70/100\n",
            "115/115 [==============================] - 0s 3ms/step - loss: 231210.2188 - rmse: 231210.2188\n",
            "Epoch 71/100\n",
            "115/115 [==============================] - 0s 3ms/step - loss: 230603.2500 - rmse: 230603.2500\n",
            "Epoch 72/100\n",
            "115/115 [==============================] - 0s 3ms/step - loss: 231162.3750 - rmse: 231162.3750\n",
            "Epoch 73/100\n",
            "115/115 [==============================] - 0s 3ms/step - loss: 230322.4375 - rmse: 230322.4375\n",
            "Epoch 74/100\n",
            "115/115 [==============================] - 0s 3ms/step - loss: 230695.9375 - rmse: 230695.9375\n",
            "Epoch 75/100\n",
            "115/115 [==============================] - 0s 3ms/step - loss: 230705.5000 - rmse: 230705.5000\n",
            "Epoch 76/100\n",
            "115/115 [==============================] - 0s 3ms/step - loss: 228832.4375 - rmse: 228832.4375\n",
            "Epoch 77/100\n",
            "115/115 [==============================] - 0s 3ms/step - loss: 229564.4375 - rmse: 229564.4375\n",
            "Epoch 78/100\n",
            "115/115 [==============================] - 0s 2ms/step - loss: 230741.6250 - rmse: 230741.6250\n",
            "Epoch 79/100\n",
            "115/115 [==============================] - 0s 2ms/step - loss: 230156.7188 - rmse: 230156.7188\n",
            "Epoch 80/100\n",
            "115/115 [==============================] - 0s 2ms/step - loss: 230122.1719 - rmse: 230122.1719\n",
            "Epoch 81/100\n",
            "115/115 [==============================] - 0s 2ms/step - loss: 229516.0469 - rmse: 229516.0469\n",
            "Epoch 82/100\n",
            "115/115 [==============================] - 0s 2ms/step - loss: 229622.1875 - rmse: 229622.1875\n",
            "Epoch 83/100\n",
            "115/115 [==============================] - 0s 2ms/step - loss: 229688.1250 - rmse: 229688.1250\n",
            "Epoch 84/100\n",
            "115/115 [==============================] - 0s 4ms/step - loss: 230519.5625 - rmse: 230519.5625\n",
            "Epoch 85/100\n",
            "115/115 [==============================] - 0s 3ms/step - loss: 229221.2969 - rmse: 229221.2969\n",
            "Epoch 86/100\n",
            "115/115 [==============================] - 0s 2ms/step - loss: 228621.7500 - rmse: 228621.7500\n",
            "Epoch 87/100\n",
            "115/115 [==============================] - 0s 4ms/step - loss: 228101.3438 - rmse: 228101.3438\n",
            "Epoch 88/100\n",
            "115/115 [==============================] - 0s 3ms/step - loss: 230446.8906 - rmse: 230446.8906\n",
            "Epoch 89/100\n",
            "115/115 [==============================] - 0s 2ms/step - loss: 229000.9062 - rmse: 229000.9062\n",
            "Epoch 90/100\n",
            "115/115 [==============================] - 1s 4ms/step - loss: 229609.1406 - rmse: 229609.1406\n",
            "Epoch 91/100\n",
            "115/115 [==============================] - 0s 3ms/step - loss: 228335.3750 - rmse: 228335.3750\n",
            "Epoch 92/100\n",
            "115/115 [==============================] - 0s 2ms/step - loss: 225926.5938 - rmse: 225926.5938\n",
            "Epoch 93/100\n",
            "115/115 [==============================] - 0s 2ms/step - loss: 227937.2344 - rmse: 227937.2344\n",
            "Epoch 94/100\n",
            "115/115 [==============================] - 0s 2ms/step - loss: 228468.1406 - rmse: 228468.1406\n",
            "Epoch 95/100\n",
            "115/115 [==============================] - 0s 2ms/step - loss: 228489.8750 - rmse: 228489.8750\n",
            "Epoch 96/100\n",
            "115/115 [==============================] - 1s 4ms/step - loss: 227086.9844 - rmse: 227086.9844\n",
            "Epoch 97/100\n",
            "115/115 [==============================] - 0s 3ms/step - loss: 227890.2812 - rmse: 227890.2812\n",
            "Epoch 98/100\n",
            "115/115 [==============================] - 0s 2ms/step - loss: 227162.4688 - rmse: 227162.4688\n",
            "Epoch 99/100\n",
            "115/115 [==============================] - 1s 5ms/step - loss: 227613.8438 - rmse: 227613.8438\n",
            "Epoch 100/100\n",
            "115/115 [==============================] - 0s 3ms/step - loss: 227798.8750 - rmse: 227798.8750\n"
          ]
        },
        {
          "output_type": "execute_result",
          "data": {
            "text/plain": [
              "<keras.callbacks.History at 0x7f4f266f0990>"
            ]
          },
          "metadata": {},
          "execution_count": 43
        }
      ]
    },
    {
      "cell_type": "code",
      "source": [
        "predictions=model.predict(X_test_tf_2A)"
      ],
      "metadata": {
        "id": "NJGWYVnKdwb1"
      },
      "execution_count": null,
      "outputs": []
    },
    {
      "cell_type": "code",
      "source": [
        "predictions[:5]"
      ],
      "metadata": {
        "colab": {
          "base_uri": "https://localhost:8080/"
        },
        "id": "RaYxR6Hkeb1F",
        "outputId": "f7db501e-cbd7-44d2-f2a5-9ceb13c5b289"
      },
      "execution_count": null,
      "outputs": [
        {
          "output_type": "execute_result",
          "data": {
            "text/plain": [
              "array([[ 319182.3 ],\n",
              "       [ 352194.88],\n",
              "       [1264410.1 ],\n",
              "       [ 510887.6 ],\n",
              "       [ 374565.66]], dtype=float32)"
            ]
          },
          "metadata": {},
          "execution_count": 45
        }
      ]
    },
    {
      "cell_type": "code",
      "source": [
        "predictions_1A=np.ravel(predictions)\n",
        "predictions_1A[0:5]"
      ],
      "metadata": {
        "colab": {
          "base_uri": "https://localhost:8080/"
        },
        "id": "r_ywO8NYf4vy",
        "outputId": "06cf0afc-8a3c-4630-8cbf-9f9efebf2435"
      },
      "execution_count": null,
      "outputs": [
        {
          "output_type": "execute_result",
          "data": {
            "text/plain": [
              "array([ 319182.3 ,  352194.88, 1264410.1 ,  510887.6 ,  374565.66],\n",
              "      dtype=float32)"
            ]
          },
          "metadata": {},
          "execution_count": 52
        }
      ]
    },
    {
      "cell_type": "code",
      "source": [
        "rmse(Y_test,predictions_1A).numpy()"
      ],
      "metadata": {
        "colab": {
          "base_uri": "https://localhost:8080/"
        },
        "id": "oK9LFv0Xg5g1",
        "outputId": "ed629403-657e-46ab-cfd7-129507aaa461"
      },
      "execution_count": null,
      "outputs": [
        {
          "output_type": "execute_result",
          "data": {
            "text/plain": [
              "992082.102661593"
            ]
          },
          "metadata": {},
          "execution_count": 53
        }
      ]
    }
  ]
}