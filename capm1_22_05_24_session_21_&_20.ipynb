{
  "nbformat": 4,
  "nbformat_minor": 0,
  "metadata": {
    "colab": {
      "name": "capm1 22-05-24 session 21 & 20",
      "provenance": [],
      "collapsed_sections": [],
      "include_colab_link": true
    },
    "kernelspec": {
      "name": "python3",
      "display_name": "Python 3"
    },
    "language_info": {
      "name": "python"
    },
    "accelerator": "GPU"
  },
  "cells": [
    {
      "cell_type": "markdown",
      "metadata": {
        "id": "view-in-github",
        "colab_type": "text"
      },
      "source": [
        "<a href=\"https://colab.research.google.com/github/Sohitga014/econometrics-data-/blob/main/capm1_22_05_24_session_21_%26_20.ipynb\" target=\"_parent\"><img src=\"https://colab.research.google.com/assets/colab-badge.svg\" alt=\"Open In Colab\"/></a>"
      ]
    },
    {
      "cell_type": "markdown",
      "source": [
        "CONSTRUCTING CAPM MODEL OF INDIAN STOCK EXCHANGE DATA OF NIFTY & CIPLA"
      ],
      "metadata": {
        "id": "jQbAKEu6Y2Ys"
      }
    },
    {
      "cell_type": "markdown",
      "source": [
        "1. Install yfinance (yahoo finance) in colab notebook"
      ],
      "metadata": {
        "id": "CrjJPb5UZIs6"
      }
    },
    {
      "cell_type": "code",
      "execution_count": null,
      "metadata": {
        "id": "7Jc7tqDGXhIe",
        "outputId": "aa3dfe89-b5a3-4742-ea6c-e452b3c89a54",
        "colab": {
          "base_uri": "https://localhost:8080/"
        }
      },
      "outputs": [
        {
          "output_type": "stream",
          "name": "stdout",
          "text": [
            "Looking in indexes: https://pypi.org/simple, https://us-python.pkg.dev/colab-wheels/public/simple/\n",
            "Collecting yfinance\n",
            "  Downloading yfinance-0.1.70-py2.py3-none-any.whl (26 kB)\n",
            "Requirement already satisfied: multitasking>=0.0.7 in /usr/local/lib/python3.7/dist-packages (from yfinance) (0.0.10)\n",
            "Collecting lxml>=4.5.1\n",
            "  Downloading lxml-4.8.0-cp37-cp37m-manylinux_2_17_x86_64.manylinux2014_x86_64.manylinux_2_24_x86_64.whl (6.4 MB)\n",
            "\u001b[K     |████████████████████████████████| 6.4 MB 54.2 MB/s \n",
            "\u001b[?25hCollecting requests>=2.26\n",
            "  Downloading requests-2.27.1-py2.py3-none-any.whl (63 kB)\n",
            "\u001b[K     |████████████████████████████████| 63 kB 2.4 MB/s \n",
            "\u001b[?25hRequirement already satisfied: pandas>=0.24.0 in /usr/local/lib/python3.7/dist-packages (from yfinance) (1.3.5)\n",
            "Requirement already satisfied: numpy>=1.15 in /usr/local/lib/python3.7/dist-packages (from yfinance) (1.21.6)\n",
            "Requirement already satisfied: python-dateutil>=2.7.3 in /usr/local/lib/python3.7/dist-packages (from pandas>=0.24.0->yfinance) (2.8.2)\n",
            "Requirement already satisfied: pytz>=2017.3 in /usr/local/lib/python3.7/dist-packages (from pandas>=0.24.0->yfinance) (2022.1)\n",
            "Requirement already satisfied: six>=1.5 in /usr/local/lib/python3.7/dist-packages (from python-dateutil>=2.7.3->pandas>=0.24.0->yfinance) (1.15.0)\n",
            "Requirement already satisfied: charset-normalizer~=2.0.0 in /usr/local/lib/python3.7/dist-packages (from requests>=2.26->yfinance) (2.0.12)\n",
            "Requirement already satisfied: certifi>=2017.4.17 in /usr/local/lib/python3.7/dist-packages (from requests>=2.26->yfinance) (2022.5.18.1)\n",
            "Requirement already satisfied: urllib3<1.27,>=1.21.1 in /usr/local/lib/python3.7/dist-packages (from requests>=2.26->yfinance) (1.24.3)\n",
            "Requirement already satisfied: idna<4,>=2.5 in /usr/local/lib/python3.7/dist-packages (from requests>=2.26->yfinance) (2.10)\n",
            "Installing collected packages: requests, lxml, yfinance\n",
            "  Attempting uninstall: requests\n",
            "    Found existing installation: requests 2.23.0\n",
            "    Uninstalling requests-2.23.0:\n",
            "      Successfully uninstalled requests-2.23.0\n",
            "  Attempting uninstall: lxml\n",
            "    Found existing installation: lxml 4.2.6\n",
            "    Uninstalling lxml-4.2.6:\n",
            "      Successfully uninstalled lxml-4.2.6\n",
            "\u001b[31mERROR: pip's dependency resolver does not currently take into account all the packages that are installed. This behaviour is the source of the following dependency conflicts.\n",
            "google-colab 1.0.0 requires requests~=2.23.0, but you have requests 2.27.1 which is incompatible.\n",
            "datascience 0.10.6 requires folium==0.2.1, but you have folium 0.8.3 which is incompatible.\u001b[0m\n",
            "Successfully installed lxml-4.8.0 requests-2.27.1 yfinance-0.1.70\n"
          ]
        }
      ],
      "source": [
        "! pip install yfinance"
      ]
    },
    {
      "cell_type": "markdown",
      "source": [
        "2. import yfinance library for importing NIFTY index data & CIPLA stock data"
      ],
      "metadata": {
        "id": "FHPe2rhjZ-jq"
      }
    },
    {
      "cell_type": "code",
      "source": [
        "import yfinance as yf"
      ],
      "metadata": {
        "id": "gpiYtg8VaKMy"
      },
      "execution_count": null,
      "outputs": []
    },
    {
      "cell_type": "markdown",
      "source": [
        "3. importing NIFTY index data from yfinance by using ticker \"^NSEI\""
      ],
      "metadata": {
        "id": "Nr4ciTymahYu"
      }
    },
    {
      "cell_type": "code",
      "source": [
        "NIFTY=yf.Ticker('^NSEI')"
      ],
      "metadata": {
        "id": "qJ9euWj1abdp"
      },
      "execution_count": null,
      "outputs": []
    },
    {
      "cell_type": "markdown",
      "source": [
        "4. import 5 year NIFTY & CIPLA data (only close values), daily basis convert it into monthly % return basis"
      ],
      "metadata": {
        "id": "aIXXcTBna7Oe"
      }
    },
    {
      "cell_type": "code",
      "source": [
        "NIFTY_d=NIFTY.history(period='5y',auto_adjust=\"True\")['Close']"
      ],
      "metadata": {
        "id": "bq6DJDFJbSXn"
      },
      "execution_count": null,
      "outputs": []
    },
    {
      "cell_type": "code",
      "source": [
        "NIFTY_d"
      ],
      "metadata": {
        "id": "WO8lZT9JdDj-",
        "outputId": "40ed1b67-7a26-4a71-eb1b-fe82caa2f158",
        "colab": {
          "base_uri": "https://localhost:8080/"
        }
      },
      "execution_count": null,
      "outputs": [
        {
          "output_type": "execute_result",
          "data": {
            "text/plain": [
              "Date\n",
              "2017-05-24     9360.549805\n",
              "2017-05-25     9509.750000\n",
              "2017-05-26     9595.099609\n",
              "2017-05-29     9604.900391\n",
              "2017-05-30     9624.549805\n",
              "                  ...     \n",
              "2022-05-18    16240.299805\n",
              "2022-05-19    15809.400391\n",
              "2022-05-20    16266.150391\n",
              "2022-05-23    16214.700195\n",
              "2022-05-24    16125.150391\n",
              "Name: Close, Length: 1232, dtype: float64"
            ]
          },
          "metadata": {},
          "execution_count": 11
        }
      ]
    },
    {
      "cell_type": "code",
      "source": [
        "NIFTY_m=NIFTY_d.resample('1M').last()"
      ],
      "metadata": {
        "id": "jhCULCS-dHQ-"
      },
      "execution_count": null,
      "outputs": []
    },
    {
      "cell_type": "code",
      "source": [
        "NIFTY_m"
      ],
      "metadata": {
        "id": "KE9Orje7dk2i",
        "outputId": "f980d8b5-fc40-4485-9644-617723492b43",
        "colab": {
          "base_uri": "https://localhost:8080/"
        }
      },
      "execution_count": null,
      "outputs": [
        {
          "output_type": "execute_result",
          "data": {
            "text/plain": [
              "Date\n",
              "2017-05-31     9621.250000\n",
              "2017-06-30     9520.900391\n",
              "2017-07-31    10077.099609\n",
              "2017-08-31     9917.900391\n",
              "2017-09-30     9788.599609\n",
              "                  ...     \n",
              "2022-01-31    17339.849609\n",
              "2022-02-28    16793.900391\n",
              "2022-03-31    17464.750000\n",
              "2022-04-30    17102.550781\n",
              "2022-05-31    16125.150391\n",
              "Freq: M, Name: Close, Length: 61, dtype: float64"
            ]
          },
          "metadata": {},
          "execution_count": 13
        }
      ]
    },
    {
      "cell_type": "code",
      "source": [
        "NIFTY_mr=NIFTY_m.pct_change().dropna()"
      ],
      "metadata": {
        "id": "lk0PNFLwd6hQ"
      },
      "execution_count": null,
      "outputs": []
    },
    {
      "cell_type": "code",
      "source": [
        "NIFTY_mr"
      ],
      "metadata": {
        "id": "GaKMZA56eK1U",
        "outputId": "e9aba171-8cf2-4917-a0d6-5e50b72ee4f0",
        "colab": {
          "base_uri": "https://localhost:8080/"
        }
      },
      "execution_count": null,
      "outputs": [
        {
          "output_type": "execute_result",
          "data": {
            "text/plain": [
              "Date\n",
              "2017-06-30   -0.010430\n",
              "2017-07-31    0.058419\n",
              "2017-08-31   -0.015798\n",
              "2017-09-30   -0.013037\n",
              "2017-10-31    0.055851\n",
              "2017-11-30   -0.010522\n",
              "2017-12-31    0.029741\n",
              "2018-01-31    0.047195\n",
              "2018-02-28   -0.048501\n",
              "2018-03-31   -0.036134\n",
              "2018-04-30    0.061862\n",
              "2018-05-31   -0.000298\n",
              "2018-06-30   -0.002035\n",
              "2018-07-31    0.059939\n",
              "2018-08-31    0.028530\n",
              "2018-09-30   -0.064214\n",
              "2018-10-31   -0.049756\n",
              "2018-11-30    0.047191\n",
              "2018-12-31   -0.001306\n",
              "2019-01-31   -0.002909\n",
              "2019-02-28   -0.003550\n",
              "2019-03-31    0.072041\n",
              "2019-04-30    0.015398\n",
              "2019-05-31    0.014866\n",
              "2019-06-30   -0.011235\n",
              "2019-07-31   -0.056905\n",
              "2019-08-31   -0.008522\n",
              "2019-09-30    0.040932\n",
              "2019-10-31    0.035122\n",
              "2019-11-30    0.015037\n",
              "2019-12-31    0.009323\n",
              "2020-01-31   -0.016958\n",
              "2020-02-29   -0.063563\n",
              "2020-03-31   -0.232464\n",
              "2020-04-30    0.146800\n",
              "2020-05-31   -0.028357\n",
              "2020-06-30    0.075342\n",
              "2020-07-31    0.074873\n",
              "2020-08-31    0.028361\n",
              "2020-09-30   -0.012290\n",
              "2020-10-31    0.035105\n",
              "2020-11-30    0.113941\n",
              "2020-12-31    0.078094\n",
              "2021-01-31   -0.024829\n",
              "2021-02-28    0.065609\n",
              "2021-03-31    0.011119\n",
              "2021-04-30   -0.004057\n",
              "2021-05-31    0.065046\n",
              "2021-06-30    0.008901\n",
              "2021-07-31    0.002643\n",
              "2021-08-31    0.086858\n",
              "2021-09-30    0.028365\n",
              "2021-10-31    0.003037\n",
              "2021-11-30   -0.038958\n",
              "2021-12-31    0.021836\n",
              "2022-01-31   -0.000818\n",
              "2022-02-28   -0.031485\n",
              "2022-03-31    0.039946\n",
              "2022-04-30   -0.020739\n",
              "2022-05-31   -0.057149\n",
              "Freq: M, Name: Close, dtype: float64"
            ]
          },
          "metadata": {},
          "execution_count": 17
        }
      ]
    },
    {
      "cell_type": "code",
      "source": [
        "CIPLA=yf.Ticker('CIPLA.NS')"
      ],
      "metadata": {
        "id": "xdUDJXj9erkq"
      },
      "execution_count": null,
      "outputs": []
    },
    {
      "cell_type": "code",
      "source": [
        "CIPLA_d=CIPLA.history(period='5y',auto_adjust=\"True\")['Close']"
      ],
      "metadata": {
        "id": "hS5OE4g9e2md"
      },
      "execution_count": null,
      "outputs": []
    },
    {
      "cell_type": "code",
      "source": [
        "CIPLA_d"
      ],
      "metadata": {
        "id": "BBRJ_0yNfMuw",
        "outputId": "e72ac663-0aaf-491b-c937-ed8b1c975173",
        "colab": {
          "base_uri": "https://localhost:8080/"
        }
      },
      "execution_count": null,
      "outputs": [
        {
          "output_type": "execute_result",
          "data": {
            "text/plain": [
              "Date\n",
              "2017-05-24    508.203308\n",
              "2017-05-25    492.898041\n",
              "2017-05-26    478.130646\n",
              "2017-05-29    494.218353\n",
              "2017-05-30    499.254852\n",
              "                 ...    \n",
              "2022-05-18    957.099976\n",
              "2022-05-19    938.000000\n",
              "2022-05-20    978.400024\n",
              "2022-05-23    970.049988\n",
              "2022-05-24    970.400024\n",
              "Name: Close, Length: 1236, dtype: float64"
            ]
          },
          "metadata": {},
          "execution_count": 23
        }
      ]
    },
    {
      "cell_type": "code",
      "source": [
        "CIPLA_m=CIPLA_d.resample('1M').last()"
      ],
      "metadata": {
        "id": "nGnk0FJLfU4V"
      },
      "execution_count": null,
      "outputs": []
    },
    {
      "cell_type": "code",
      "source": [
        "CIPLA_m"
      ],
      "metadata": {
        "id": "_SLNCkJ0ftkm",
        "outputId": "e71e7ba9-3988-478a-e405-7b23740411f4",
        "colab": {
          "base_uri": "https://localhost:8080/"
        }
      },
      "execution_count": null,
      "outputs": [
        {
          "output_type": "execute_result",
          "data": {
            "text/plain": [
              "Date\n",
              "2017-05-31     504.975952\n",
              "2017-06-30     543.361389\n",
              "2017-07-31     549.710266\n",
              "2017-08-31     561.291382\n",
              "2017-09-30     575.227905\n",
              "                 ...     \n",
              "2022-01-31     945.000000\n",
              "2022-02-28     925.049988\n",
              "2022-03-31    1018.049988\n",
              "2022-04-30     981.200012\n",
              "2022-05-31     970.400024\n",
              "Freq: M, Name: Close, Length: 61, dtype: float64"
            ]
          },
          "metadata": {},
          "execution_count": 25
        }
      ]
    },
    {
      "cell_type": "code",
      "source": [
        "CIPLA_mr=CIPLA_m.pct_change().dropna()"
      ],
      "metadata": {
        "id": "Z7ncXsJEgAat"
      },
      "execution_count": null,
      "outputs": []
    },
    {
      "cell_type": "code",
      "source": [
        "CIPLA_mr"
      ],
      "metadata": {
        "id": "riWkYpNOgK1O",
        "outputId": "044506d3-5602-48f1-b61a-4368191d7fa1",
        "colab": {
          "base_uri": "https://localhost:8080/"
        }
      },
      "execution_count": null,
      "outputs": [
        {
          "output_type": "execute_result",
          "data": {
            "text/plain": [
              "Date\n",
              "2017-06-30    0.076014\n",
              "2017-07-31    0.011684\n",
              "2017-08-31    0.021068\n",
              "2017-09-30    0.024829\n",
              "2017-10-31    0.070807\n",
              "2017-11-30   -0.042543\n",
              "2017-12-31    0.012648\n",
              "2018-01-31   -0.026869\n",
              "2018-02-28   -0.004222\n",
              "2018-03-31   -0.074960\n",
              "2018-04-30    0.113576\n",
              "2018-05-31   -0.135989\n",
              "2018-06-30    0.175019\n",
              "2018-07-31    0.040055\n",
              "2018-08-31    0.037443\n",
              "2018-09-30   -0.012233\n",
              "2018-10-31   -0.037918\n",
              "2018-11-30   -0.140485\n",
              "2018-12-31   -0.039475\n",
              "2019-01-31   -0.004235\n",
              "2019-02-28    0.072009\n",
              "2019-03-31   -0.052205\n",
              "2019-04-30    0.074962\n",
              "2019-05-31   -0.010885\n",
              "2019-06-30   -0.009663\n",
              "2019-07-31   -0.052988\n",
              "2019-08-31   -0.093360\n",
              "2019-09-30   -0.099376\n",
              "2019-10-31    0.097180\n",
              "2019-11-30   -0.000321\n",
              "2019-12-31    0.024641\n",
              "2020-01-31   -0.065454\n",
              "2020-02-29   -0.100246\n",
              "2020-03-31    0.054336\n",
              "2020-04-30    0.394348\n",
              "2020-05-31    0.099305\n",
              "2020-06-30   -0.012188\n",
              "2020-07-31    0.124795\n",
              "2020-08-31   -0.009165\n",
              "2020-09-30    0.085698\n",
              "2020-10-31   -0.026075\n",
              "2020-11-30   -0.011796\n",
              "2020-12-31    0.099718\n",
              "2021-01-31    0.007257\n",
              "2021-02-28   -0.047040\n",
              "2021-03-31    0.035639\n",
              "2021-04-30    0.116857\n",
              "2021-05-31    0.042841\n",
              "2021-06-30    0.023753\n",
              "2021-07-31   -0.053349\n",
              "2021-08-31    0.035845\n",
              "2021-09-30    0.037719\n",
              "2021-10-31   -0.079813\n",
              "2021-11-30    0.073200\n",
              "2021-12-31   -0.028004\n",
              "2022-01-31    0.000953\n",
              "2022-02-28   -0.021111\n",
              "2022-03-31    0.100535\n",
              "2022-04-30   -0.036197\n",
              "2022-05-31   -0.011007\n",
              "Freq: M, Name: Close, dtype: float64"
            ]
          },
          "metadata": {},
          "execution_count": 32
        }
      ]
    },
    {
      "cell_type": "markdown",
      "source": [
        "5. As we imported NIFTY & CIPLA monthly % change basis data, Now we have to merge NIFTY & CIPLA data together on the basis of \"Date\". For the same purpose we need to import pandas"
      ],
      "metadata": {
        "id": "Mw4mVKljhD71"
      }
    },
    {
      "cell_type": "code",
      "source": [
        "import pandas as pd"
      ],
      "metadata": {
        "id": "m2i7gnGygyFK"
      },
      "execution_count": null,
      "outputs": []
    },
    {
      "cell_type": "code",
      "source": [
        "CN_dt=pd.merge(NIFTY_mr,CIPLA_mr, on='Date')"
      ],
      "metadata": {
        "id": "Kq4r3XQOhica"
      },
      "execution_count": null,
      "outputs": []
    },
    {
      "cell_type": "code",
      "source": [
        "CN_dt.head()"
      ],
      "metadata": {
        "id": "QvC5mJH5ikK_",
        "outputId": "a27ce34d-8a57-4f81-b874-f4c1ab0930c5",
        "colab": {
          "base_uri": "https://localhost:8080/",
          "height": 238
        }
      },
      "execution_count": null,
      "outputs": [
        {
          "output_type": "execute_result",
          "data": {
            "text/plain": [
              "             Close_x   Close_y\n",
              "Date                          \n",
              "2017-06-30 -0.010430  0.076014\n",
              "2017-07-31  0.058419  0.011684\n",
              "2017-08-31 -0.015798  0.021068\n",
              "2017-09-30 -0.013037  0.024829\n",
              "2017-10-31  0.055851  0.070807"
            ],
            "text/html": [
              "\n",
              "  <div id=\"df-5e33492b-794b-41b4-a779-d8a658ff2f4c\">\n",
              "    <div class=\"colab-df-container\">\n",
              "      <div>\n",
              "<style scoped>\n",
              "    .dataframe tbody tr th:only-of-type {\n",
              "        vertical-align: middle;\n",
              "    }\n",
              "\n",
              "    .dataframe tbody tr th {\n",
              "        vertical-align: top;\n",
              "    }\n",
              "\n",
              "    .dataframe thead th {\n",
              "        text-align: right;\n",
              "    }\n",
              "</style>\n",
              "<table border=\"1\" class=\"dataframe\">\n",
              "  <thead>\n",
              "    <tr style=\"text-align: right;\">\n",
              "      <th></th>\n",
              "      <th>Close_x</th>\n",
              "      <th>Close_y</th>\n",
              "    </tr>\n",
              "    <tr>\n",
              "      <th>Date</th>\n",
              "      <th></th>\n",
              "      <th></th>\n",
              "    </tr>\n",
              "  </thead>\n",
              "  <tbody>\n",
              "    <tr>\n",
              "      <th>2017-06-30</th>\n",
              "      <td>-0.010430</td>\n",
              "      <td>0.076014</td>\n",
              "    </tr>\n",
              "    <tr>\n",
              "      <th>2017-07-31</th>\n",
              "      <td>0.058419</td>\n",
              "      <td>0.011684</td>\n",
              "    </tr>\n",
              "    <tr>\n",
              "      <th>2017-08-31</th>\n",
              "      <td>-0.015798</td>\n",
              "      <td>0.021068</td>\n",
              "    </tr>\n",
              "    <tr>\n",
              "      <th>2017-09-30</th>\n",
              "      <td>-0.013037</td>\n",
              "      <td>0.024829</td>\n",
              "    </tr>\n",
              "    <tr>\n",
              "      <th>2017-10-31</th>\n",
              "      <td>0.055851</td>\n",
              "      <td>0.070807</td>\n",
              "    </tr>\n",
              "  </tbody>\n",
              "</table>\n",
              "</div>\n",
              "      <button class=\"colab-df-convert\" onclick=\"convertToInteractive('df-5e33492b-794b-41b4-a779-d8a658ff2f4c')\"\n",
              "              title=\"Convert this dataframe to an interactive table.\"\n",
              "              style=\"display:none;\">\n",
              "        \n",
              "  <svg xmlns=\"http://www.w3.org/2000/svg\" height=\"24px\"viewBox=\"0 0 24 24\"\n",
              "       width=\"24px\">\n",
              "    <path d=\"M0 0h24v24H0V0z\" fill=\"none\"/>\n",
              "    <path d=\"M18.56 5.44l.94 2.06.94-2.06 2.06-.94-2.06-.94-.94-2.06-.94 2.06-2.06.94zm-11 1L8.5 8.5l.94-2.06 2.06-.94-2.06-.94L8.5 2.5l-.94 2.06-2.06.94zm10 10l.94 2.06.94-2.06 2.06-.94-2.06-.94-.94-2.06-.94 2.06-2.06.94z\"/><path d=\"M17.41 7.96l-1.37-1.37c-.4-.4-.92-.59-1.43-.59-.52 0-1.04.2-1.43.59L10.3 9.45l-7.72 7.72c-.78.78-.78 2.05 0 2.83L4 21.41c.39.39.9.59 1.41.59.51 0 1.02-.2 1.41-.59l7.78-7.78 2.81-2.81c.8-.78.8-2.07 0-2.86zM5.41 20L4 18.59l7.72-7.72 1.47 1.35L5.41 20z\"/>\n",
              "  </svg>\n",
              "      </button>\n",
              "      \n",
              "  <style>\n",
              "    .colab-df-container {\n",
              "      display:flex;\n",
              "      flex-wrap:wrap;\n",
              "      gap: 12px;\n",
              "    }\n",
              "\n",
              "    .colab-df-convert {\n",
              "      background-color: #E8F0FE;\n",
              "      border: none;\n",
              "      border-radius: 50%;\n",
              "      cursor: pointer;\n",
              "      display: none;\n",
              "      fill: #1967D2;\n",
              "      height: 32px;\n",
              "      padding: 0 0 0 0;\n",
              "      width: 32px;\n",
              "    }\n",
              "\n",
              "    .colab-df-convert:hover {\n",
              "      background-color: #E2EBFA;\n",
              "      box-shadow: 0px 1px 2px rgba(60, 64, 67, 0.3), 0px 1px 3px 1px rgba(60, 64, 67, 0.15);\n",
              "      fill: #174EA6;\n",
              "    }\n",
              "\n",
              "    [theme=dark] .colab-df-convert {\n",
              "      background-color: #3B4455;\n",
              "      fill: #D2E3FC;\n",
              "    }\n",
              "\n",
              "    [theme=dark] .colab-df-convert:hover {\n",
              "      background-color: #434B5C;\n",
              "      box-shadow: 0px 1px 3px 1px rgba(0, 0, 0, 0.15);\n",
              "      filter: drop-shadow(0px 1px 2px rgba(0, 0, 0, 0.3));\n",
              "      fill: #FFFFFF;\n",
              "    }\n",
              "  </style>\n",
              "\n",
              "      <script>\n",
              "        const buttonEl =\n",
              "          document.querySelector('#df-5e33492b-794b-41b4-a779-d8a658ff2f4c button.colab-df-convert');\n",
              "        buttonEl.style.display =\n",
              "          google.colab.kernel.accessAllowed ? 'block' : 'none';\n",
              "\n",
              "        async function convertToInteractive(key) {\n",
              "          const element = document.querySelector('#df-5e33492b-794b-41b4-a779-d8a658ff2f4c');\n",
              "          const dataTable =\n",
              "            await google.colab.kernel.invokeFunction('convertToInteractive',\n",
              "                                                     [key], {});\n",
              "          if (!dataTable) return;\n",
              "\n",
              "          const docLinkHtml = 'Like what you see? Visit the ' +\n",
              "            '<a target=\"_blank\" href=https://colab.research.google.com/notebooks/data_table.ipynb>data table notebook</a>'\n",
              "            + ' to learn more about interactive tables.';\n",
              "          element.innerHTML = '';\n",
              "          dataTable['output_type'] = 'display_data';\n",
              "          await google.colab.output.renderOutput(dataTable, element);\n",
              "          const docLink = document.createElement('div');\n",
              "          docLink.innerHTML = docLinkHtml;\n",
              "          element.appendChild(docLink);\n",
              "        }\n",
              "      </script>\n",
              "    </div>\n",
              "  </div>\n",
              "  "
            ]
          },
          "metadata": {},
          "execution_count": 37
        }
      ]
    },
    {
      "cell_type": "code",
      "source": [
        "CN_dt.rename(columns={'Close_x':'NIFTY_mr','Close_y':'CIPLA_mr'},inplace=True)"
      ],
      "metadata": {
        "id": "nQUecW9Qiszv"
      },
      "execution_count": null,
      "outputs": []
    },
    {
      "cell_type": "code",
      "source": [
        "CN_dt"
      ],
      "metadata": {
        "id": "JIy51Cn0is3P",
        "outputId": "752c2f85-04f3-4b09-deb8-5fa3494d17c9",
        "colab": {
          "base_uri": "https://localhost:8080/",
          "height": 1000
        }
      },
      "execution_count": null,
      "outputs": [
        {
          "output_type": "execute_result",
          "data": {
            "text/plain": [
              "            NIFTY_mr  CIPLA_mr\n",
              "Date                          \n",
              "2017-06-30 -0.010430  0.076014\n",
              "2017-07-31  0.058419  0.011684\n",
              "2017-08-31 -0.015798  0.021068\n",
              "2017-09-30 -0.013037  0.024829\n",
              "2017-10-31  0.055851  0.070807\n",
              "2017-11-30 -0.010522 -0.042543\n",
              "2017-12-31  0.029741  0.012648\n",
              "2018-01-31  0.047195 -0.026869\n",
              "2018-02-28 -0.048501 -0.004222\n",
              "2018-03-31 -0.036134 -0.074960\n",
              "2018-04-30  0.061862  0.113576\n",
              "2018-05-31 -0.000298 -0.135989\n",
              "2018-06-30 -0.002035  0.175019\n",
              "2018-07-31  0.059939  0.040055\n",
              "2018-08-31  0.028530  0.037443\n",
              "2018-09-30 -0.064214 -0.012233\n",
              "2018-10-31 -0.049756 -0.037918\n",
              "2018-11-30  0.047191 -0.140485\n",
              "2018-12-31 -0.001306 -0.039475\n",
              "2019-01-31 -0.002909 -0.004235\n",
              "2019-02-28 -0.003550  0.072009\n",
              "2019-03-31  0.072041 -0.052205\n",
              "2019-04-30  0.015398  0.074962\n",
              "2019-05-31  0.014866 -0.010885\n",
              "2019-06-30 -0.011235 -0.009663\n",
              "2019-07-31 -0.056905 -0.052988\n",
              "2019-08-31 -0.008522 -0.093360\n",
              "2019-09-30  0.040932 -0.099376\n",
              "2019-10-31  0.035122  0.097180\n",
              "2019-11-30  0.015037 -0.000321\n",
              "2019-12-31  0.009323  0.024641\n",
              "2020-01-31 -0.016958 -0.065454\n",
              "2020-02-29 -0.063563 -0.100246\n",
              "2020-03-31 -0.232464  0.054336\n",
              "2020-04-30  0.146800  0.394348\n",
              "2020-05-31 -0.028357  0.099305\n",
              "2020-06-30  0.075342 -0.012188\n",
              "2020-07-31  0.074873  0.124795\n",
              "2020-08-31  0.028361 -0.009165\n",
              "2020-09-30 -0.012290  0.085698\n",
              "2020-10-31  0.035105 -0.026075\n",
              "2020-11-30  0.113941 -0.011796\n",
              "2020-12-31  0.078094  0.099718\n",
              "2021-01-31 -0.024829  0.007257\n",
              "2021-02-28  0.065609 -0.047040\n",
              "2021-03-31  0.011119  0.035639\n",
              "2021-04-30 -0.004057  0.116857\n",
              "2021-05-31  0.065046  0.042841\n",
              "2021-06-30  0.008901  0.023753\n",
              "2021-07-31  0.002643 -0.053349\n",
              "2021-08-31  0.086858  0.035845\n",
              "2021-09-30  0.028365  0.037719\n",
              "2021-10-31  0.003037 -0.079813\n",
              "2021-11-30 -0.038958  0.073200\n",
              "2021-12-31  0.021836 -0.028004\n",
              "2022-01-31 -0.000818  0.000953\n",
              "2022-02-28 -0.031485 -0.021111\n",
              "2022-03-31  0.039946  0.100535\n",
              "2022-04-30 -0.020739 -0.036197\n",
              "2022-05-31 -0.057149 -0.011007"
            ],
            "text/html": [
              "\n",
              "  <div id=\"df-3ee6ae4e-586c-4180-beb6-8ccb4af2c0c5\">\n",
              "    <div class=\"colab-df-container\">\n",
              "      <div>\n",
              "<style scoped>\n",
              "    .dataframe tbody tr th:only-of-type {\n",
              "        vertical-align: middle;\n",
              "    }\n",
              "\n",
              "    .dataframe tbody tr th {\n",
              "        vertical-align: top;\n",
              "    }\n",
              "\n",
              "    .dataframe thead th {\n",
              "        text-align: right;\n",
              "    }\n",
              "</style>\n",
              "<table border=\"1\" class=\"dataframe\">\n",
              "  <thead>\n",
              "    <tr style=\"text-align: right;\">\n",
              "      <th></th>\n",
              "      <th>NIFTY_mr</th>\n",
              "      <th>CIPLA_mr</th>\n",
              "    </tr>\n",
              "    <tr>\n",
              "      <th>Date</th>\n",
              "      <th></th>\n",
              "      <th></th>\n",
              "    </tr>\n",
              "  </thead>\n",
              "  <tbody>\n",
              "    <tr>\n",
              "      <th>2017-06-30</th>\n",
              "      <td>-0.010430</td>\n",
              "      <td>0.076014</td>\n",
              "    </tr>\n",
              "    <tr>\n",
              "      <th>2017-07-31</th>\n",
              "      <td>0.058419</td>\n",
              "      <td>0.011684</td>\n",
              "    </tr>\n",
              "    <tr>\n",
              "      <th>2017-08-31</th>\n",
              "      <td>-0.015798</td>\n",
              "      <td>0.021068</td>\n",
              "    </tr>\n",
              "    <tr>\n",
              "      <th>2017-09-30</th>\n",
              "      <td>-0.013037</td>\n",
              "      <td>0.024829</td>\n",
              "    </tr>\n",
              "    <tr>\n",
              "      <th>2017-10-31</th>\n",
              "      <td>0.055851</td>\n",
              "      <td>0.070807</td>\n",
              "    </tr>\n",
              "    <tr>\n",
              "      <th>2017-11-30</th>\n",
              "      <td>-0.010522</td>\n",
              "      <td>-0.042543</td>\n",
              "    </tr>\n",
              "    <tr>\n",
              "      <th>2017-12-31</th>\n",
              "      <td>0.029741</td>\n",
              "      <td>0.012648</td>\n",
              "    </tr>\n",
              "    <tr>\n",
              "      <th>2018-01-31</th>\n",
              "      <td>0.047195</td>\n",
              "      <td>-0.026869</td>\n",
              "    </tr>\n",
              "    <tr>\n",
              "      <th>2018-02-28</th>\n",
              "      <td>-0.048501</td>\n",
              "      <td>-0.004222</td>\n",
              "    </tr>\n",
              "    <tr>\n",
              "      <th>2018-03-31</th>\n",
              "      <td>-0.036134</td>\n",
              "      <td>-0.074960</td>\n",
              "    </tr>\n",
              "    <tr>\n",
              "      <th>2018-04-30</th>\n",
              "      <td>0.061862</td>\n",
              "      <td>0.113576</td>\n",
              "    </tr>\n",
              "    <tr>\n",
              "      <th>2018-05-31</th>\n",
              "      <td>-0.000298</td>\n",
              "      <td>-0.135989</td>\n",
              "    </tr>\n",
              "    <tr>\n",
              "      <th>2018-06-30</th>\n",
              "      <td>-0.002035</td>\n",
              "      <td>0.175019</td>\n",
              "    </tr>\n",
              "    <tr>\n",
              "      <th>2018-07-31</th>\n",
              "      <td>0.059939</td>\n",
              "      <td>0.040055</td>\n",
              "    </tr>\n",
              "    <tr>\n",
              "      <th>2018-08-31</th>\n",
              "      <td>0.028530</td>\n",
              "      <td>0.037443</td>\n",
              "    </tr>\n",
              "    <tr>\n",
              "      <th>2018-09-30</th>\n",
              "      <td>-0.064214</td>\n",
              "      <td>-0.012233</td>\n",
              "    </tr>\n",
              "    <tr>\n",
              "      <th>2018-10-31</th>\n",
              "      <td>-0.049756</td>\n",
              "      <td>-0.037918</td>\n",
              "    </tr>\n",
              "    <tr>\n",
              "      <th>2018-11-30</th>\n",
              "      <td>0.047191</td>\n",
              "      <td>-0.140485</td>\n",
              "    </tr>\n",
              "    <tr>\n",
              "      <th>2018-12-31</th>\n",
              "      <td>-0.001306</td>\n",
              "      <td>-0.039475</td>\n",
              "    </tr>\n",
              "    <tr>\n",
              "      <th>2019-01-31</th>\n",
              "      <td>-0.002909</td>\n",
              "      <td>-0.004235</td>\n",
              "    </tr>\n",
              "    <tr>\n",
              "      <th>2019-02-28</th>\n",
              "      <td>-0.003550</td>\n",
              "      <td>0.072009</td>\n",
              "    </tr>\n",
              "    <tr>\n",
              "      <th>2019-03-31</th>\n",
              "      <td>0.072041</td>\n",
              "      <td>-0.052205</td>\n",
              "    </tr>\n",
              "    <tr>\n",
              "      <th>2019-04-30</th>\n",
              "      <td>0.015398</td>\n",
              "      <td>0.074962</td>\n",
              "    </tr>\n",
              "    <tr>\n",
              "      <th>2019-05-31</th>\n",
              "      <td>0.014866</td>\n",
              "      <td>-0.010885</td>\n",
              "    </tr>\n",
              "    <tr>\n",
              "      <th>2019-06-30</th>\n",
              "      <td>-0.011235</td>\n",
              "      <td>-0.009663</td>\n",
              "    </tr>\n",
              "    <tr>\n",
              "      <th>2019-07-31</th>\n",
              "      <td>-0.056905</td>\n",
              "      <td>-0.052988</td>\n",
              "    </tr>\n",
              "    <tr>\n",
              "      <th>2019-08-31</th>\n",
              "      <td>-0.008522</td>\n",
              "      <td>-0.093360</td>\n",
              "    </tr>\n",
              "    <tr>\n",
              "      <th>2019-09-30</th>\n",
              "      <td>0.040932</td>\n",
              "      <td>-0.099376</td>\n",
              "    </tr>\n",
              "    <tr>\n",
              "      <th>2019-10-31</th>\n",
              "      <td>0.035122</td>\n",
              "      <td>0.097180</td>\n",
              "    </tr>\n",
              "    <tr>\n",
              "      <th>2019-11-30</th>\n",
              "      <td>0.015037</td>\n",
              "      <td>-0.000321</td>\n",
              "    </tr>\n",
              "    <tr>\n",
              "      <th>2019-12-31</th>\n",
              "      <td>0.009323</td>\n",
              "      <td>0.024641</td>\n",
              "    </tr>\n",
              "    <tr>\n",
              "      <th>2020-01-31</th>\n",
              "      <td>-0.016958</td>\n",
              "      <td>-0.065454</td>\n",
              "    </tr>\n",
              "    <tr>\n",
              "      <th>2020-02-29</th>\n",
              "      <td>-0.063563</td>\n",
              "      <td>-0.100246</td>\n",
              "    </tr>\n",
              "    <tr>\n",
              "      <th>2020-03-31</th>\n",
              "      <td>-0.232464</td>\n",
              "      <td>0.054336</td>\n",
              "    </tr>\n",
              "    <tr>\n",
              "      <th>2020-04-30</th>\n",
              "      <td>0.146800</td>\n",
              "      <td>0.394348</td>\n",
              "    </tr>\n",
              "    <tr>\n",
              "      <th>2020-05-31</th>\n",
              "      <td>-0.028357</td>\n",
              "      <td>0.099305</td>\n",
              "    </tr>\n",
              "    <tr>\n",
              "      <th>2020-06-30</th>\n",
              "      <td>0.075342</td>\n",
              "      <td>-0.012188</td>\n",
              "    </tr>\n",
              "    <tr>\n",
              "      <th>2020-07-31</th>\n",
              "      <td>0.074873</td>\n",
              "      <td>0.124795</td>\n",
              "    </tr>\n",
              "    <tr>\n",
              "      <th>2020-08-31</th>\n",
              "      <td>0.028361</td>\n",
              "      <td>-0.009165</td>\n",
              "    </tr>\n",
              "    <tr>\n",
              "      <th>2020-09-30</th>\n",
              "      <td>-0.012290</td>\n",
              "      <td>0.085698</td>\n",
              "    </tr>\n",
              "    <tr>\n",
              "      <th>2020-10-31</th>\n",
              "      <td>0.035105</td>\n",
              "      <td>-0.026075</td>\n",
              "    </tr>\n",
              "    <tr>\n",
              "      <th>2020-11-30</th>\n",
              "      <td>0.113941</td>\n",
              "      <td>-0.011796</td>\n",
              "    </tr>\n",
              "    <tr>\n",
              "      <th>2020-12-31</th>\n",
              "      <td>0.078094</td>\n",
              "      <td>0.099718</td>\n",
              "    </tr>\n",
              "    <tr>\n",
              "      <th>2021-01-31</th>\n",
              "      <td>-0.024829</td>\n",
              "      <td>0.007257</td>\n",
              "    </tr>\n",
              "    <tr>\n",
              "      <th>2021-02-28</th>\n",
              "      <td>0.065609</td>\n",
              "      <td>-0.047040</td>\n",
              "    </tr>\n",
              "    <tr>\n",
              "      <th>2021-03-31</th>\n",
              "      <td>0.011119</td>\n",
              "      <td>0.035639</td>\n",
              "    </tr>\n",
              "    <tr>\n",
              "      <th>2021-04-30</th>\n",
              "      <td>-0.004057</td>\n",
              "      <td>0.116857</td>\n",
              "    </tr>\n",
              "    <tr>\n",
              "      <th>2021-05-31</th>\n",
              "      <td>0.065046</td>\n",
              "      <td>0.042841</td>\n",
              "    </tr>\n",
              "    <tr>\n",
              "      <th>2021-06-30</th>\n",
              "      <td>0.008901</td>\n",
              "      <td>0.023753</td>\n",
              "    </tr>\n",
              "    <tr>\n",
              "      <th>2021-07-31</th>\n",
              "      <td>0.002643</td>\n",
              "      <td>-0.053349</td>\n",
              "    </tr>\n",
              "    <tr>\n",
              "      <th>2021-08-31</th>\n",
              "      <td>0.086858</td>\n",
              "      <td>0.035845</td>\n",
              "    </tr>\n",
              "    <tr>\n",
              "      <th>2021-09-30</th>\n",
              "      <td>0.028365</td>\n",
              "      <td>0.037719</td>\n",
              "    </tr>\n",
              "    <tr>\n",
              "      <th>2021-10-31</th>\n",
              "      <td>0.003037</td>\n",
              "      <td>-0.079813</td>\n",
              "    </tr>\n",
              "    <tr>\n",
              "      <th>2021-11-30</th>\n",
              "      <td>-0.038958</td>\n",
              "      <td>0.073200</td>\n",
              "    </tr>\n",
              "    <tr>\n",
              "      <th>2021-12-31</th>\n",
              "      <td>0.021836</td>\n",
              "      <td>-0.028004</td>\n",
              "    </tr>\n",
              "    <tr>\n",
              "      <th>2022-01-31</th>\n",
              "      <td>-0.000818</td>\n",
              "      <td>0.000953</td>\n",
              "    </tr>\n",
              "    <tr>\n",
              "      <th>2022-02-28</th>\n",
              "      <td>-0.031485</td>\n",
              "      <td>-0.021111</td>\n",
              "    </tr>\n",
              "    <tr>\n",
              "      <th>2022-03-31</th>\n",
              "      <td>0.039946</td>\n",
              "      <td>0.100535</td>\n",
              "    </tr>\n",
              "    <tr>\n",
              "      <th>2022-04-30</th>\n",
              "      <td>-0.020739</td>\n",
              "      <td>-0.036197</td>\n",
              "    </tr>\n",
              "    <tr>\n",
              "      <th>2022-05-31</th>\n",
              "      <td>-0.057149</td>\n",
              "      <td>-0.011007</td>\n",
              "    </tr>\n",
              "  </tbody>\n",
              "</table>\n",
              "</div>\n",
              "      <button class=\"colab-df-convert\" onclick=\"convertToInteractive('df-3ee6ae4e-586c-4180-beb6-8ccb4af2c0c5')\"\n",
              "              title=\"Convert this dataframe to an interactive table.\"\n",
              "              style=\"display:none;\">\n",
              "        \n",
              "  <svg xmlns=\"http://www.w3.org/2000/svg\" height=\"24px\"viewBox=\"0 0 24 24\"\n",
              "       width=\"24px\">\n",
              "    <path d=\"M0 0h24v24H0V0z\" fill=\"none\"/>\n",
              "    <path d=\"M18.56 5.44l.94 2.06.94-2.06 2.06-.94-2.06-.94-.94-2.06-.94 2.06-2.06.94zm-11 1L8.5 8.5l.94-2.06 2.06-.94-2.06-.94L8.5 2.5l-.94 2.06-2.06.94zm10 10l.94 2.06.94-2.06 2.06-.94-2.06-.94-.94-2.06-.94 2.06-2.06.94z\"/><path d=\"M17.41 7.96l-1.37-1.37c-.4-.4-.92-.59-1.43-.59-.52 0-1.04.2-1.43.59L10.3 9.45l-7.72 7.72c-.78.78-.78 2.05 0 2.83L4 21.41c.39.39.9.59 1.41.59.51 0 1.02-.2 1.41-.59l7.78-7.78 2.81-2.81c.8-.78.8-2.07 0-2.86zM5.41 20L4 18.59l7.72-7.72 1.47 1.35L5.41 20z\"/>\n",
              "  </svg>\n",
              "      </button>\n",
              "      \n",
              "  <style>\n",
              "    .colab-df-container {\n",
              "      display:flex;\n",
              "      flex-wrap:wrap;\n",
              "      gap: 12px;\n",
              "    }\n",
              "\n",
              "    .colab-df-convert {\n",
              "      background-color: #E8F0FE;\n",
              "      border: none;\n",
              "      border-radius: 50%;\n",
              "      cursor: pointer;\n",
              "      display: none;\n",
              "      fill: #1967D2;\n",
              "      height: 32px;\n",
              "      padding: 0 0 0 0;\n",
              "      width: 32px;\n",
              "    }\n",
              "\n",
              "    .colab-df-convert:hover {\n",
              "      background-color: #E2EBFA;\n",
              "      box-shadow: 0px 1px 2px rgba(60, 64, 67, 0.3), 0px 1px 3px 1px rgba(60, 64, 67, 0.15);\n",
              "      fill: #174EA6;\n",
              "    }\n",
              "\n",
              "    [theme=dark] .colab-df-convert {\n",
              "      background-color: #3B4455;\n",
              "      fill: #D2E3FC;\n",
              "    }\n",
              "\n",
              "    [theme=dark] .colab-df-convert:hover {\n",
              "      background-color: #434B5C;\n",
              "      box-shadow: 0px 1px 3px 1px rgba(0, 0, 0, 0.15);\n",
              "      filter: drop-shadow(0px 1px 2px rgba(0, 0, 0, 0.3));\n",
              "      fill: #FFFFFF;\n",
              "    }\n",
              "  </style>\n",
              "\n",
              "      <script>\n",
              "        const buttonEl =\n",
              "          document.querySelector('#df-3ee6ae4e-586c-4180-beb6-8ccb4af2c0c5 button.colab-df-convert');\n",
              "        buttonEl.style.display =\n",
              "          google.colab.kernel.accessAllowed ? 'block' : 'none';\n",
              "\n",
              "        async function convertToInteractive(key) {\n",
              "          const element = document.querySelector('#df-3ee6ae4e-586c-4180-beb6-8ccb4af2c0c5');\n",
              "          const dataTable =\n",
              "            await google.colab.kernel.invokeFunction('convertToInteractive',\n",
              "                                                     [key], {});\n",
              "          if (!dataTable) return;\n",
              "\n",
              "          const docLinkHtml = 'Like what you see? Visit the ' +\n",
              "            '<a target=\"_blank\" href=https://colab.research.google.com/notebooks/data_table.ipynb>data table notebook</a>'\n",
              "            + ' to learn more about interactive tables.';\n",
              "          element.innerHTML = '';\n",
              "          dataTable['output_type'] = 'display_data';\n",
              "          await google.colab.output.renderOutput(dataTable, element);\n",
              "          const docLink = document.createElement('div');\n",
              "          docLink.innerHTML = docLinkHtml;\n",
              "          element.appendChild(docLink);\n",
              "        }\n",
              "      </script>\n",
              "    </div>\n",
              "  </div>\n",
              "  "
            ]
          },
          "metadata": {},
          "execution_count": 48
        }
      ]
    },
    {
      "cell_type": "markdown",
      "source": [
        "6. Now as our NIFTY_mr & CIPLA_mr last 5 years data is ready for analysis, Now we can set up CAPM model including regression as follows\n",
        "\n",
        "Y = f (X)\n",
        "\n",
        "Y = b0 + (b1*X)\n",
        "\n",
        "Y = CIPLA_mr\n",
        "X = NIFTY_mr\n",
        "\n",
        "for this purpose we will first import statsmodels\n",
        "\n"
      ],
      "metadata": {
        "id": "7LJvEIFPj_ro"
      }
    },
    {
      "cell_type": "code",
      "source": [
        "import statsmodels.formula.api as smf"
      ],
      "metadata": {
        "id": "rMQHYnf-k4px"
      },
      "execution_count": null,
      "outputs": []
    },
    {
      "cell_type": "code",
      "source": [
        "reg='CIPLA_mr~NIFTY_mr'"
      ],
      "metadata": {
        "id": "MuftbOeHl17a"
      },
      "execution_count": null,
      "outputs": []
    },
    {
      "cell_type": "code",
      "source": [
        "regoutput=smf.ols(reg,CN_dt).fit()"
      ],
      "metadata": {
        "id": "nssLAE5QmR4B"
      },
      "execution_count": null,
      "outputs": []
    },
    {
      "cell_type": "code",
      "source": [
        "print(regoutput.summary())"
      ],
      "metadata": {
        "id": "ioPgcr3pmmWa",
        "outputId": "82087d4e-fd7f-4280-8719-14fdf7724195",
        "colab": {
          "base_uri": "https://localhost:8080/"
        }
      },
      "execution_count": null,
      "outputs": [
        {
          "output_type": "stream",
          "name": "stdout",
          "text": [
            "                            OLS Regression Results                            \n",
            "==============================================================================\n",
            "Dep. Variable:               CIPLA_mr   R-squared:                       0.073\n",
            "Model:                            OLS   Adj. R-squared:                  0.057\n",
            "Method:                 Least Squares   F-statistic:                     4.562\n",
            "Date:                Tue, 24 May 2022   Prob (F-statistic):             0.0369\n",
            "Time:                        15:06:17   Log-Likelihood:                 66.879\n",
            "No. Observations:                  60   AIC:                            -129.8\n",
            "Df Residuals:                      58   BIC:                            -125.6\n",
            "Df Model:                           1                                         \n",
            "Covariance Type:            nonrobust                                         \n",
            "==============================================================================\n",
            "                 coef    std err          t      P>|t|      [0.025      0.975]\n",
            "------------------------------------------------------------------------------\n",
            "Intercept      0.0099      0.011      0.935      0.354      -0.011       0.031\n",
            "NIFTY_mr       0.4105      0.192      2.136      0.037       0.026       0.795\n",
            "==============================================================================\n",
            "Omnibus:                       19.904   Durbin-Watson:                   1.981\n",
            "Prob(Omnibus):                  0.000   Jarque-Bera (JB):               36.521\n",
            "Skew:                           1.057   Prob(JB):                     1.17e-08\n",
            "Kurtosis:                       6.184   Cond. No.                         18.4\n",
            "==============================================================================\n",
            "\n",
            "Warnings:\n",
            "[1] Standard Errors assume that the covariance matrix of the errors is correctly specified.\n"
          ]
        }
      ]
    },
    {
      "cell_type": "markdown",
      "source": [
        "Here we get regression output of our CAPM model which says that NIFTY_mr(X) & CIPLA_mr(Y) are having following relationship\n",
        "\n",
        "Y = b0 + (b1*X)\n",
        "\n",
        "With the help of regression analysis we got following beta values\n",
        "\n",
        "b0 = 0.0099\n",
        "b1 = 0.4105\n",
        "\n",
        "So, our CAPM model is \n",
        "\n",
        "Y = 0.0099 + (0.4105*X)"
      ],
      "metadata": {
        "id": "0Uq1EG2DnMCH"
      }
    }
  ]
}