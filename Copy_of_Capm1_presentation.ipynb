{
  "nbformat": 4,
  "nbformat_minor": 0,
  "metadata": {
    "colab": {
      "name": "Copy of Capm1 presentation ",
      "provenance": [],
      "authorship_tag": "ABX9TyPDMAB5vCX4tmpvndxSXa8M",
      "include_colab_link": true
    },
    "kernelspec": {
      "name": "python3",
      "display_name": "Python 3"
    },
    "language_info": {
      "name": "python"
    },
    "accelerator": "GPU",
    "gpuClass": "standard"
  },
  "cells": [
    {
      "cell_type": "markdown",
      "metadata": {
        "id": "view-in-github",
        "colab_type": "text"
      },
      "source": [
        "<a href=\"https://colab.research.google.com/github/Sohitga014/econometrics-data-/blob/main/Copy_of_Capm1_presentation.ipynb\" target=\"_parent\"><img src=\"https://colab.research.google.com/assets/colab-badge.svg\" alt=\"Open In Colab\"/></a>"
      ]
    },
    {
      "cell_type": "markdown",
      "source": [
        "CONSTRUCTING CAPM MODEL OF INDIAN STOCK EXCHANGE OF NIFTY AND CIPLA"
      ],
      "metadata": {
        "id": "KWoyzUcjYn0P"
      }
    },
    {
      "cell_type": "markdown",
      "source": [
        "1. Install yfinance in cloab notebook"
      ],
      "metadata": {
        "id": "kCQAoV6fY2r6"
      }
    },
    {
      "cell_type": "code",
      "source": [
        "! pip install yfinance"
      ],
      "metadata": {
        "id": "dz6VJfQQY78j",
        "outputId": "56df2be3-541f-498e-c2f2-3180827d9bec",
        "colab": {
          "base_uri": "https://localhost:8080/"
        }
      },
      "execution_count": 6,
      "outputs": [
        {
          "output_type": "stream",
          "name": "stdout",
          "text": [
            "Looking in indexes: https://pypi.org/simple, https://us-python.pkg.dev/colab-wheels/public/simple/\n",
            "Collecting yfinance\n",
            "  Downloading yfinance-0.1.72-py2.py3-none-any.whl (27 kB)\n",
            "Collecting lxml>=4.5.1\n",
            "  Downloading lxml-4.9.0-cp37-cp37m-manylinux_2_17_x86_64.manylinux2014_x86_64.manylinux_2_24_x86_64.whl (6.4 MB)\n",
            "\u001b[K     |████████████████████████████████| 6.4 MB 7.4 MB/s \n",
            "\u001b[?25hRequirement already satisfied: pandas>=0.24.0 in /usr/local/lib/python3.7/dist-packages (from yfinance) (1.3.5)\n",
            "Collecting requests>=2.26\n",
            "  Downloading requests-2.28.1-py3-none-any.whl (62 kB)\n",
            "\u001b[K     |████████████████████████████████| 62 kB 1.5 MB/s \n",
            "\u001b[?25hRequirement already satisfied: multitasking>=0.0.7 in /usr/local/lib/python3.7/dist-packages (from yfinance) (0.0.10)\n",
            "Requirement already satisfied: numpy>=1.15 in /usr/local/lib/python3.7/dist-packages (from yfinance) (1.21.6)\n",
            "Requirement already satisfied: python-dateutil>=2.7.3 in /usr/local/lib/python3.7/dist-packages (from pandas>=0.24.0->yfinance) (2.8.2)\n",
            "Requirement already satisfied: pytz>=2017.3 in /usr/local/lib/python3.7/dist-packages (from pandas>=0.24.0->yfinance) (2022.1)\n",
            "Requirement already satisfied: six>=1.5 in /usr/local/lib/python3.7/dist-packages (from python-dateutil>=2.7.3->pandas>=0.24.0->yfinance) (1.15.0)\n",
            "Requirement already satisfied: charset-normalizer<3,>=2 in /usr/local/lib/python3.7/dist-packages (from requests>=2.26->yfinance) (2.0.12)\n",
            "Requirement already satisfied: idna<4,>=2.5 in /usr/local/lib/python3.7/dist-packages (from requests>=2.26->yfinance) (2.10)\n",
            "Requirement already satisfied: urllib3<1.27,>=1.21.1 in /usr/local/lib/python3.7/dist-packages (from requests>=2.26->yfinance) (1.24.3)\n",
            "Requirement already satisfied: certifi>=2017.4.17 in /usr/local/lib/python3.7/dist-packages (from requests>=2.26->yfinance) (2022.6.15)\n",
            "Installing collected packages: requests, lxml, yfinance\n",
            "  Attempting uninstall: requests\n",
            "    Found existing installation: requests 2.23.0\n",
            "    Uninstalling requests-2.23.0:\n",
            "      Successfully uninstalled requests-2.23.0\n",
            "  Attempting uninstall: lxml\n",
            "    Found existing installation: lxml 4.2.6\n",
            "    Uninstalling lxml-4.2.6:\n",
            "      Successfully uninstalled lxml-4.2.6\n",
            "\u001b[31mERROR: pip's dependency resolver does not currently take into account all the packages that are installed. This behaviour is the source of the following dependency conflicts.\n",
            "google-colab 1.0.0 requires requests~=2.23.0, but you have requests 2.28.1 which is incompatible.\n",
            "datascience 0.10.6 requires folium==0.2.1, but you have folium 0.8.3 which is incompatible.\u001b[0m\n",
            "Successfully installed lxml-4.9.0 requests-2.28.1 yfinance-0.1.72\n"
          ]
        }
      ]
    },
    {
      "cell_type": "markdown",
      "source": [
        "import yfinance library for importing NIFTY index data & CIPLA stock data"
      ],
      "metadata": {
        "id": "wFsn-YU2ZOS-"
      }
    },
    {
      "cell_type": "code",
      "source": [
        "import yfinance as yf"
      ],
      "metadata": {
        "id": "VbySNEuaZdrN"
      },
      "execution_count": 7,
      "outputs": []
    },
    {
      "cell_type": "markdown",
      "source": [
        "importing NIFTY index data from yfinance by using ticker \"^NSEI\")"
      ],
      "metadata": {
        "id": "F36Y4ivxZjlK"
      }
    },
    {
      "cell_type": "code",
      "source": [
        "NIFTY=yf.Ticker('^NSEI')"
      ],
      "metadata": {
        "id": "BbsV-eQzZvzM"
      },
      "execution_count": 8,
      "outputs": []
    },
    {
      "cell_type": "markdown",
      "source": [
        "Import 5 years NIFTY data. (Only close value) daily basis"
      ],
      "metadata": {
        "id": "2pUUs9IHZ-3b"
      }
    },
    {
      "cell_type": "code",
      "source": [
        "NIFTY.history(period ='5y',auto_adjust=\"True\")['Close']"
      ],
      "metadata": {
        "colab": {
          "base_uri": "https://localhost:8080/"
        },
        "id": "soAA3egcmcMp",
        "outputId": "603e2d76-1dce-4560-f55d-589eb8c99dad"
      },
      "execution_count": 9,
      "outputs": [
        {
          "output_type": "execute_result",
          "data": {
            "text/plain": [
              "Date\n",
              "2017-07-03     9615.000000\n",
              "2017-07-04     9613.299805\n",
              "2017-07-05     9637.599609\n",
              "2017-07-06     9674.549805\n",
              "2017-07-07     9665.799805\n",
              "                  ...     \n",
              "2022-06-27    15832.049805\n",
              "2022-06-28    15850.200195\n",
              "2022-06-29    15799.099609\n",
              "2022-06-30    15780.250000\n",
              "2022-07-01    15648.799805\n",
              "Name: Close, Length: 1233, dtype: float64"
            ]
          },
          "metadata": {},
          "execution_count": 9
        }
      ]
    },
    {
      "cell_type": "code",
      "source": [
        "NIFTY_d=NIFTY.history(period ='5y',auto_adjust=\"True\")['Close']"
      ],
      "metadata": {
        "id": "PZPPAYMAn8h0"
      },
      "execution_count": 11,
      "outputs": []
    },
    {
      "cell_type": "code",
      "source": [
        "NIFTY_d"
      ],
      "metadata": {
        "colab": {
          "base_uri": "https://localhost:8080/"
        },
        "id": "zeRjXFudoJ8c",
        "outputId": "07c87ff4-1162-4270-a343-7789556dfb9d"
      },
      "execution_count": 12,
      "outputs": [
        {
          "output_type": "execute_result",
          "data": {
            "text/plain": [
              "Date\n",
              "2017-07-03     9615.000000\n",
              "2017-07-04     9613.299805\n",
              "2017-07-05     9637.599609\n",
              "2017-07-06     9674.549805\n",
              "2017-07-07     9665.799805\n",
              "                  ...     \n",
              "2022-06-27    15832.049805\n",
              "2022-06-28    15850.200195\n",
              "2022-06-29    15799.099609\n",
              "2022-06-30    15780.250000\n",
              "2022-07-01    15635.650391\n",
              "Name: Close, Length: 1233, dtype: float64"
            ]
          },
          "metadata": {},
          "execution_count": 12
        }
      ]
    },
    {
      "cell_type": "code",
      "source": [
        "NIFTY_m=NIFTY_d.resample('1M').last()"
      ],
      "metadata": {
        "id": "PUGza6WyrRVP"
      },
      "execution_count": 13,
      "outputs": []
    },
    {
      "cell_type": "code",
      "source": [
        "NIFTY_m"
      ],
      "metadata": {
        "colab": {
          "base_uri": "https://localhost:8080/"
        },
        "id": "r1rlOUDTri2a",
        "outputId": "a23c8292-8627-4517-eca0-d8e432f11577"
      },
      "execution_count": 14,
      "outputs": [
        {
          "output_type": "execute_result",
          "data": {
            "text/plain": [
              "Date\n",
              "2017-07-31    10077.099609\n",
              "2017-08-31     9917.900391\n",
              "2017-09-30     9788.599609\n",
              "2017-10-31    10335.299805\n",
              "2017-11-30    10226.549805\n",
              "                  ...     \n",
              "2022-03-31    17464.750000\n",
              "2022-04-30    17102.550781\n",
              "2022-05-31    16584.550781\n",
              "2022-06-30    15780.250000\n",
              "2022-07-31    15635.650391\n",
              "Freq: M, Name: Close, Length: 61, dtype: float64"
            ]
          },
          "metadata": {},
          "execution_count": 14
        }
      ]
    },
    {
      "cell_type": "code",
      "source": [
        "NIFTY_mr=NIFTY_m.pct_change()"
      ],
      "metadata": {
        "id": "t-aGt6jatI6o"
      },
      "execution_count": 15,
      "outputs": []
    },
    {
      "cell_type": "code",
      "source": [
        "NIFTY_mr"
      ],
      "metadata": {
        "colab": {
          "base_uri": "https://localhost:8080/"
        },
        "id": "zmRRDE23teO4",
        "outputId": "db7cb596-13e5-4db8-fa3a-d4b60d935441"
      },
      "execution_count": 16,
      "outputs": [
        {
          "output_type": "execute_result",
          "data": {
            "text/plain": [
              "Date\n",
              "2017-07-31         NaN\n",
              "2017-08-31   -0.015798\n",
              "2017-09-30   -0.013037\n",
              "2017-10-31    0.055851\n",
              "2017-11-30   -0.010522\n",
              "                ...   \n",
              "2022-03-31    0.039946\n",
              "2022-04-30   -0.020739\n",
              "2022-05-31   -0.030288\n",
              "2022-06-30   -0.048497\n",
              "2022-07-31   -0.009163\n",
              "Freq: M, Name: Close, Length: 61, dtype: float64"
            ]
          },
          "metadata": {},
          "execution_count": 16
        }
      ]
    }
  ]
}